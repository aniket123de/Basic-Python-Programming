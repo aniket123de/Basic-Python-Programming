{
  "nbformat": 4,
  "nbformat_minor": 0,
  "metadata": {
    "colab": {
      "provenance": [],
      "authorship_tag": "ABX9TyMl99p/Tq6y5dM22bnj4WUk",
      "include_colab_link": true
    },
    "kernelspec": {
      "name": "python3",
      "display_name": "Python 3"
    },
    "language_info": {
      "name": "python"
    }
  },
  "cells": [
    {
      "cell_type": "markdown",
      "metadata": {
        "id": "view-in-github",
        "colab_type": "text"
      },
      "source": [
        "<a href=\"https://colab.research.google.com/github/aniket123de/Basic-Python-Programming/blob/main/Day_5(Triangle_Pattern_I).ipynb\" target=\"_parent\"><img src=\"https://colab.research.google.com/assets/colab-badge.svg\" alt=\"Open In Colab\"/></a>"
      ]
    },
    {
      "cell_type": "markdown",
      "source": [
        "# **Triangle Pattern - I**"
      ],
      "metadata": {
        "id": "NEj6whcynl8n"
      }
    },
    {
      "cell_type": "markdown",
      "source": [
        "### **Type 1**"
      ],
      "metadata": {
        "id": "d3YcBE0yntJl"
      }
    },
    {
      "cell_type": "code",
      "execution_count": null,
      "metadata": {
        "id": "VA4JPMZFbbsd",
        "colab": {
          "base_uri": "https://localhost:8080/"
        },
        "outputId": "c5bc5d53-2579-42bd-db1e-1761f0a00f19"
      },
      "outputs": [
        {
          "output_type": "stream",
          "name": "stdout",
          "text": [
            "4\n",
            "* \n",
            "* * \n",
            "* * * \n",
            "* * * * \n"
          ]
        }
      ],
      "source": [
        "h=int(input())\n",
        "for row in range(1,h+1):\n",
        "  for col in range(1,row+1):\n",
        "    print(\"*\",end=\" \")\n",
        "  print()"
      ]
    },
    {
      "cell_type": "markdown",
      "source": [
        "### **Type 2**"
      ],
      "metadata": {
        "id": "kWh_dXLZnx4j"
      }
    },
    {
      "cell_type": "code",
      "source": [
        "h=int(input())\n",
        "for row in range(1,h+1):\n",
        "  for col in range(1,row+1):\n",
        "    print(row,end=\" \")\n",
        "  print()"
      ],
      "metadata": {
        "colab": {
          "base_uri": "https://localhost:8080/"
        },
        "id": "eFSx3BmZnzUp",
        "outputId": "fa226587-2164-41cf-d149-40c1e7ac3b40"
      },
      "execution_count": null,
      "outputs": [
        {
          "output_type": "stream",
          "name": "stdout",
          "text": [
            "5\n",
            "1 \n",
            "2 2 \n",
            "3 3 3 \n",
            "4 4 4 4 \n",
            "5 5 5 5 5 \n"
          ]
        }
      ]
    },
    {
      "cell_type": "markdown",
      "source": [
        "### **Type 3**"
      ],
      "metadata": {
        "id": "PsQie79inzjE"
      }
    },
    {
      "cell_type": "code",
      "source": [
        "h=int(input())\n",
        "for row in range(1,h+1):\n",
        "  for col in range(1,row+1):\n",
        "    print(col,end=\" \")\n",
        "  print()"
      ],
      "metadata": {
        "colab": {
          "base_uri": "https://localhost:8080/"
        },
        "id": "fEKYOG_Dn02j",
        "outputId": "7d0aa900-0c11-4ed7-95e5-84c299512dcf"
      },
      "execution_count": null,
      "outputs": [
        {
          "output_type": "stream",
          "name": "stdout",
          "text": [
            "5\n",
            "1 \n",
            "1 2 \n",
            "1 2 3 \n",
            "1 2 3 4 \n",
            "1 2 3 4 5 \n"
          ]
        }
      ]
    },
    {
      "cell_type": "markdown",
      "source": [
        "### **Type 4**"
      ],
      "metadata": {
        "id": "QR-pGyPfn1U8"
      }
    },
    {
      "cell_type": "code",
      "source": [
        "h=int(input())\n",
        "for row in range(1,h+1):\n",
        "  for col in range(1,row+1):\n",
        "    print(chr(row+64),end=\" \")\n",
        "  print()"
      ],
      "metadata": {
        "colab": {
          "base_uri": "https://localhost:8080/"
        },
        "id": "Ua3ZolYTn27j",
        "outputId": "59a00dd5-8962-4449-a421-a165d182594a"
      },
      "execution_count": null,
      "outputs": [
        {
          "output_type": "stream",
          "name": "stdout",
          "text": [
            "5\n",
            "A \n",
            "B B \n",
            "C C C \n",
            "D D D D \n",
            "E E E E E \n"
          ]
        }
      ]
    },
    {
      "cell_type": "markdown",
      "source": [
        "### **Type 5**"
      ],
      "metadata": {
        "id": "zVlIVL7yn3IC"
      }
    },
    {
      "cell_type": "code",
      "source": [
        "h=int(input())\n",
        "for row in range(1,h+1):\n",
        "  for col in range(1,row+1):\n",
        "    print(chr(col+64),end=\" \")\n",
        "  print()"
      ],
      "metadata": {
        "colab": {
          "base_uri": "https://localhost:8080/"
        },
        "id": "60yd6IrQn4XU",
        "outputId": "60526c10-a080-411e-cf1a-61b969afb337"
      },
      "execution_count": null,
      "outputs": [
        {
          "output_type": "stream",
          "name": "stdout",
          "text": [
            "5\n",
            "A \n",
            "A B \n",
            "A B C \n",
            "A B C D \n",
            "A B C D E \n"
          ]
        }
      ]
    },
    {
      "cell_type": "markdown",
      "source": [
        "### **Type 6**"
      ],
      "metadata": {
        "id": "uln5lBT1n4xl"
      }
    },
    {
      "cell_type": "code",
      "source": [
        "h=int(input())\n",
        "for row in range(h,0,-1):\n",
        "  for col in range(h,row-1,-1):\n",
        "    print(col,end=\" \")\n",
        "  print()"
      ],
      "metadata": {
        "colab": {
          "base_uri": "https://localhost:8080/"
        },
        "id": "7PN97LKJn64j",
        "outputId": "246f2849-2a25-43b7-a9d1-23e8e6680c02"
      },
      "execution_count": null,
      "outputs": [
        {
          "output_type": "stream",
          "name": "stdout",
          "text": [
            "5\n",
            "5 \n",
            "5 4 \n",
            "5 4 3 \n",
            "5 4 3 2 \n",
            "5 4 3 2 1 \n"
          ]
        }
      ]
    },
    {
      "cell_type": "markdown",
      "source": [
        "### **Type 7**"
      ],
      "metadata": {
        "id": "zwCUAfN5n7R1"
      }
    },
    {
      "cell_type": "code",
      "source": [
        "h=int(input())\n",
        "for row in range(h,0,-1):\n",
        "  for col in range(h,row-1,-1):\n",
        "    print(row,end=\" \")\n",
        "  print()"
      ],
      "metadata": {
        "colab": {
          "base_uri": "https://localhost:8080/"
        },
        "id": "tBOC_h5en8vF",
        "outputId": "87a29cb8-98fb-4451-f4d2-d08fcf070f86"
      },
      "execution_count": null,
      "outputs": [
        {
          "output_type": "stream",
          "name": "stdout",
          "text": [
            "5\n",
            "5 \n",
            "4 4 \n",
            "3 3 3 \n",
            "2 2 2 2 \n",
            "1 1 1 1 1 \n"
          ]
        }
      ]
    },
    {
      "cell_type": "markdown",
      "source": [
        "### **Type 8**"
      ],
      "metadata": {
        "id": "fKWqagFIn9Gn"
      }
    },
    {
      "cell_type": "code",
      "source": [
        "h=int(input())\n",
        "for row in range(h,0,-1):\n",
        "  for col in range(h,row-1,-1):\n",
        "    print(chr(col+64),end=\" \")\n",
        "  print()"
      ],
      "metadata": {
        "colab": {
          "base_uri": "https://localhost:8080/"
        },
        "id": "I0kuHhBUn-NT",
        "outputId": "49b56e50-22b4-445a-e6ed-b0dd0fc18ea1"
      },
      "execution_count": null,
      "outputs": [
        {
          "output_type": "stream",
          "name": "stdout",
          "text": [
            "5\n",
            "E \n",
            "E D \n",
            "E D C \n",
            "E D C B \n",
            "E D C B A \n"
          ]
        }
      ]
    },
    {
      "cell_type": "markdown",
      "source": [
        "### **Type 9**"
      ],
      "metadata": {
        "id": "5u6XIokUn-iE"
      }
    },
    {
      "cell_type": "code",
      "source": [
        "h=int(input())\n",
        "for row in range(h,0,-1):\n",
        "  for col in range(h,row-1,-1):\n",
        "    print(chr(row+64),end=\" \")\n",
        "  print()"
      ],
      "metadata": {
        "colab": {
          "base_uri": "https://localhost:8080/"
        },
        "id": "uod65zQ7n_nM",
        "outputId": "b38fd70e-aae8-4ce0-a848-1598b2747c7e"
      },
      "execution_count": null,
      "outputs": [
        {
          "output_type": "stream",
          "name": "stdout",
          "text": [
            "5\n",
            "E \n",
            "D D \n",
            "C C C \n",
            "B B B B \n",
            "A A A A A \n"
          ]
        }
      ]
    }
  ]
}