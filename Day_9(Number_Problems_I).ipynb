{
  "nbformat": 4,
  "nbformat_minor": 0,
  "metadata": {
    "colab": {
      "provenance": [],
      "toc_visible": true,
      "authorship_tag": "ABX9TyPOAm3HwEod0PwQ9Cup1eWF",
      "include_colab_link": true
    },
    "kernelspec": {
      "name": "python3",
      "display_name": "Python 3"
    },
    "language_info": {
      "name": "python"
    }
  },
  "cells": [
    {
      "cell_type": "markdown",
      "metadata": {
        "id": "view-in-github",
        "colab_type": "text"
      },
      "source": [
        "<a href=\"https://colab.research.google.com/github/aniket123de/Basic-Python-Programming/blob/main/Day_9(Number_Problems_I).ipynb\" target=\"_parent\"><img src=\"https://colab.research.google.com/assets/colab-badge.svg\" alt=\"Open In Colab\"/></a>"
      ]
    },
    {
      "cell_type": "markdown",
      "source": [
        "## **Prime Number**"
      ],
      "metadata": {
        "id": "DEzBAsrUoPen"
      }
    },
    {
      "cell_type": "markdown",
      "source": [
        "### **Process 1**"
      ],
      "metadata": {
        "id": "tt0Hiww9u_pp"
      }
    },
    {
      "cell_type": "code",
      "source": [
        "n = int(input())\n",
        "print(\"The number is : \",n)\n",
        "\n",
        "isPrime = True\n",
        "for i in range(2,n):\n",
        "  if n%i == 0:\n",
        "    isPrime = False\n",
        "    break\n",
        "\n",
        "if isPrime:\n",
        "  print(\"Prime\")\n",
        "else:\n",
        "  print(\"Not Prime\")"
      ],
      "metadata": {
        "id": "yAb1yqmku825"
      },
      "execution_count": null,
      "outputs": []
    },
    {
      "cell_type": "markdown",
      "source": [
        "### **Process 2**"
      ],
      "metadata": {
        "id": "OmzUWtilvH0K"
      }
    },
    {
      "cell_type": "code",
      "execution_count": null,
      "metadata": {
        "colab": {
          "base_uri": "https://localhost:8080/"
        },
        "id": "THvILLhojwk7",
        "outputId": "995e661b-9450-4482-81ff-ba4ebecea620"
      },
      "outputs": [
        {
          "output_type": "stream",
          "name": "stdout",
          "text": [
            "97\n",
            "The number is :  97\n",
            "Prime\n"
          ]
        }
      ],
      "source": [
        "n = int(input())\n",
        "print(\"The number is : \",n)\n",
        "\n",
        "isPrime = True\n",
        "for i in range(2,n//2+1):\n",
        "  if n%i == 0:\n",
        "    isPrime = False\n",
        "    break\n",
        "\n",
        "if isPrime:\n",
        "  print(\"Prime\")\n",
        "else:\n",
        "  print(\"Not Prime\")"
      ]
    },
    {
      "cell_type": "code",
      "source": [
        "n = 23\n",
        "x = n/2 #float division\n",
        "print(x)\n",
        "y = n//2 #integer division\n",
        "print(y)"
      ],
      "metadata": {
        "colab": {
          "base_uri": "https://localhost:8080/"
        },
        "id": "0SMJW64CuZfz",
        "outputId": "e5490d3a-31df-4955-fa76-c5cede7056a1"
      },
      "execution_count": null,
      "outputs": [
        {
          "output_type": "stream",
          "name": "stdout",
          "text": [
            "11.5\n",
            "11\n"
          ]
        }
      ]
    },
    {
      "cell_type": "markdown",
      "source": [
        "### **Process 3**"
      ],
      "metadata": {
        "id": "ZSWzGPbhvJba"
      }
    },
    {
      "cell_type": "code",
      "source": [
        "n = int(input())\n",
        "sqVal = int(n**(1/2))\n",
        "print(\"The number is : \",n)\n",
        "\n",
        "isPrime = True\n",
        "for i in range(2,sqVal+1):\n",
        "  if n%i == 0:\n",
        "    isPrime = False\n",
        "    break\n",
        "\n",
        "if isPrime:\n",
        "  print(\"Prime\")\n",
        "else:\n",
        "  print(\"Not Prime\")"
      ],
      "metadata": {
        "colab": {
          "base_uri": "https://localhost:8080/"
        },
        "id": "vS-9HQiKvczi",
        "outputId": "655327ab-d33a-492e-87f8-3e88d05c4899"
      },
      "execution_count": null,
      "outputs": [
        {
          "output_type": "stream",
          "name": "stdout",
          "text": [
            "71\n",
            "The number is :  71\n",
            "Prime\n"
          ]
        }
      ]
    },
    {
      "cell_type": "code",
      "source": [
        "n = int(input())\n",
        "sqVal = n**(1/2) #SquareRoot value\n",
        "print(n,sqVal)"
      ],
      "metadata": {
        "colab": {
          "base_uri": "https://localhost:8080/"
        },
        "id": "FwjYxPjmvKu3",
        "outputId": "966fe4bf-d8ab-4cc0-87ec-ee01948a9773"
      },
      "execution_count": null,
      "outputs": [
        {
          "output_type": "stream",
          "name": "stdout",
          "text": [
            "16\n",
            "16 4.0\n"
          ]
        }
      ]
    },
    {
      "cell_type": "markdown",
      "source": [
        "## **Factorial of a Number**"
      ],
      "metadata": {
        "id": "3vElhhWryHJ2"
      }
    },
    {
      "cell_type": "code",
      "source": [
        "n = int(input())\n",
        "print(\"The number is : \",n)\n",
        "if (n<0):\n",
        "  print(\"Factorial is not defined for negative numbers\")\n",
        "else:\n",
        "  fact = 1\n",
        "  for i in range(1,n+1):\n",
        "    fact *= i\n",
        "\n",
        "  print(\"Factorial is : \",fact)"
      ],
      "metadata": {
        "colab": {
          "base_uri": "https://localhost:8080/"
        },
        "id": "rt0Eb9i0yMA5",
        "outputId": "4c7c6d44-4cc3-44e2-8e5c-f6fbf820d121"
      },
      "execution_count": null,
      "outputs": [
        {
          "output_type": "stream",
          "name": "stdout",
          "text": [
            "5\n",
            "The number is :  5\n",
            "Factorial is :  120\n"
          ]
        }
      ]
    },
    {
      "cell_type": "markdown",
      "source": [
        "## **Fibonacci Series**"
      ],
      "metadata": {
        "id": "xKpnV2qu0L2_"
      }
    },
    {
      "cell_type": "code",
      "source": [
        "first = 0\n",
        "second = 1\n",
        "print(first,second, end = \" \")\n",
        "next = first + second\n",
        "while next <= 100:\n",
        "  print(next, end = \" \")\n",
        "  first = second\n",
        "  second = next\n",
        "  next = first + second"
      ],
      "metadata": {
        "colab": {
          "base_uri": "https://localhost:8080/"
        },
        "id": "hEoEByeb0S1h",
        "outputId": "0a1f3512-8fca-42f8-d2e2-8d91817b074c"
      },
      "execution_count": null,
      "outputs": [
        {
          "output_type": "stream",
          "name": "stdout",
          "text": [
            "1 2 3 5 8 13 21 34 55 89 "
          ]
        }
      ]
    },
    {
      "cell_type": "markdown",
      "source": [
        "## **n-th Fibonacci number**\n",
        "Where 0 will not be considered , it starts from 1."
      ],
      "metadata": {
        "id": "xQDr4a-_5fgc"
      }
    },
    {
      "cell_type": "code",
      "source": [
        "print(\"Enter value of n : \")\n",
        "n = int(input())\n",
        "first = 1\n",
        "second = 1\n",
        "for i in range(2,n):\n",
        "  next = first + second\n",
        "  first = second\n",
        "  second = next\n",
        "  fib = second\n",
        "print(f\"{n}-th Fibonacci number is = \",fib)"
      ],
      "metadata": {
        "colab": {
          "base_uri": "https://localhost:8080/"
        },
        "id": "sCG2rzIc5umX",
        "outputId": "14f3313f-cc21-420a-be4c-08ca9db68856"
      },
      "execution_count": null,
      "outputs": [
        {
          "output_type": "stream",
          "name": "stdout",
          "text": [
            "Enter value of n : \n",
            "6\n",
            "6-th Fibonacci number is =  8\n"
          ]
        }
      ]
    },
    {
      "cell_type": "markdown",
      "source": [
        "### **Fibonacci Number with Time Complexity O(1)**"
      ],
      "metadata": {
        "id": "qMStsYwCBJ2y"
      }
    },
    {
      "cell_type": "code",
      "source": [
        "print(\"Enter value of n : \")\n",
        "n = int(input())\n",
        "phi = (1+5**(1/2))/2\n",
        "psi = (1-5**(1/2))/2\n",
        "fibo = (phi**n - psi**n)/5**0.5\n",
        "print(f\"{n}-th Fibonacci number is = \",fib)"
      ],
      "metadata": {
        "colab": {
          "base_uri": "https://localhost:8080/"
        },
        "id": "ZEK9SypnBT2L",
        "outputId": "1079e201-39f9-4735-df7a-b4b555597d15"
      },
      "execution_count": null,
      "outputs": [
        {
          "output_type": "stream",
          "name": "stdout",
          "text": [
            "Enter value of n : \n",
            "6\n",
            "6-th Fibonacci number is =  8\n"
          ]
        }
      ]
    },
    {
      "cell_type": "markdown",
      "source": [
        "Logic - https://en.wikipedia.org/wiki/Fibonacci_sequence"
      ],
      "metadata": {
        "id": "UOW7pxNBCbQn"
      }
    },
    {
      "cell_type": "markdown",
      "source": [],
      "metadata": {
        "id": "yC1x_zMLCetg"
      }
    }
  ]
}