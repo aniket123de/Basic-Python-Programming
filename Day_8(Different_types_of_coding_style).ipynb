{
  "nbformat": 4,
  "nbformat_minor": 0,
  "metadata": {
    "colab": {
      "provenance": [],
      "authorship_tag": "ABX9TyNf1NYdRpKcDSvNzkzkgxGr",
      "include_colab_link": true
    },
    "kernelspec": {
      "name": "python3",
      "display_name": "Python 3"
    },
    "language_info": {
      "name": "python"
    }
  },
  "cells": [
    {
      "cell_type": "markdown",
      "metadata": {
        "id": "view-in-github",
        "colab_type": "text"
      },
      "source": [
        "<a href=\"https://colab.research.google.com/github/aniket123de/Basic-Python-Programming/blob/main/Day_8(Different_types_of_coding_style).ipynb\" target=\"_parent\"><img src=\"https://colab.research.google.com/assets/colab-badge.svg\" alt=\"Open In Colab\"/></a>"
      ]
    },
    {
      "cell_type": "markdown",
      "source": [
        "**Take a number from the user , and print the digits in the output panel.**"
      ],
      "metadata": {
        "id": "5BkavuI1vk4M"
      }
    },
    {
      "cell_type": "code",
      "execution_count": null,
      "metadata": {
        "colab": {
          "base_uri": "https://localhost:8080/"
        },
        "id": "jHsNZjttkuBW",
        "outputId": "bac923a3-0ef7-422b-da70-6614221b8211"
      },
      "outputs": [
        {
          "output_type": "stream",
          "name": "stdout",
          "text": [
            "1569\n",
            "1569\n",
            "<class 'str'>\n",
            "['1', '5', '6', '9']\n",
            "<class 'str'>\n"
          ]
        }
      ],
      "source": [
        "x = input()\n",
        "print(x)\n",
        "print(type(x)) #Now the input is a string\n",
        "print(list(x))\n",
        "print(type(x[0]))\n"
      ]
    },
    {
      "cell_type": "code",
      "source": [
        "x = input() # Number is stored as string\n",
        "y = list(map(int,list(x))) #\n",
        "print(y)"
      ],
      "metadata": {
        "colab": {
          "base_uri": "https://localhost:8080/"
        },
        "id": "HNTdQSj_xF2N",
        "outputId": "1ca66d6e-7791-45c6-a38a-253812c0661c"
      },
      "execution_count": null,
      "outputs": [
        {
          "output_type": "stream",
          "name": "stdout",
          "text": [
            "1785\n",
            "[1, 7, 8, 5]\n"
          ]
        }
      ]
    },
    {
      "cell_type": "markdown",
      "source": [
        "**Print reverse of a number.**"
      ],
      "metadata": {
        "id": "zIRtR8VqyVRg"
      }
    },
    {
      "cell_type": "code",
      "source": [
        "print(input()[::-1]) # It is slicing (To reverse the string content,)"
      ],
      "metadata": {
        "colab": {
          "base_uri": "https://localhost:8080/"
        },
        "id": "a9Xf_8enybhu",
        "outputId": "70e319c6-1332-45ad-9961-24d68d238499"
      },
      "execution_count": null,
      "outputs": [
        {
          "output_type": "stream",
          "name": "stdout",
          "text": [
            "12345\n",
            "54321\n"
          ]
        }
      ]
    },
    {
      "cell_type": "markdown",
      "source": [
        "**Calculate the sum of digits of number.**"
      ],
      "metadata": {
        "id": "lvgT01k7z92B"
      }
    },
    {
      "cell_type": "code",
      "source": [
        "print(sum(map(int,list(input()))))"
      ],
      "metadata": {
        "colab": {
          "base_uri": "https://localhost:8080/"
        },
        "id": "fHZ2dwdz0D4N",
        "outputId": "db532d3e-5e98-424a-a7c9-e66106ddadf5"
      },
      "execution_count": null,
      "outputs": [
        {
          "output_type": "stream",
          "name": "stdout",
          "text": [
            "12345\n",
            "15\n"
          ]
        }
      ]
    },
    {
      "cell_type": "markdown",
      "source": [
        "**Calculate the multiplication of digits of number.**"
      ],
      "metadata": {
        "id": "oWgxEBdO0EW2"
      }
    },
    {
      "cell_type": "code",
      "source": [
        "x = input()\n",
        "pdt=1\n",
        "for digit in x:\n",
        "  z=int(digit)\n",
        "  pdt = pdt*z\n",
        "print(pdt)"
      ],
      "metadata": {
        "colab": {
          "base_uri": "https://localhost:8080/"
        },
        "id": "o-5u-8560LWV",
        "outputId": "98141d4a-999a-4e9d-bf2f-ccbde1ff5ebf"
      },
      "execution_count": null,
      "outputs": [
        {
          "output_type": "stream",
          "name": "stdout",
          "text": [
            "234\n",
            "24\n"
          ]
        }
      ]
    },
    {
      "cell_type": "code",
      "source": [
        "n = 12345\n",
        "n2 = int(n[::-1])\n",
        "print(n2)"
      ],
      "metadata": {
        "colab": {
          "base_uri": "https://localhost:8080/",
          "height": 182
        },
        "id": "mQnG8A5qVmRA",
        "outputId": "f134e523-a075-4d89-f7d7-7d5d14eda336"
      },
      "execution_count": null,
      "outputs": [
        {
          "output_type": "error",
          "ename": "TypeError",
          "evalue": "'int' object is not subscriptable",
          "traceback": [
            "\u001b[0;31m---------------------------------------------------------------------------\u001b[0m",
            "\u001b[0;31mTypeError\u001b[0m                                 Traceback (most recent call last)",
            "\u001b[0;32m<ipython-input-3-f108a7ebbc13>\u001b[0m in \u001b[0;36m<cell line: 2>\u001b[0;34m()\u001b[0m\n\u001b[1;32m      1\u001b[0m \u001b[0mn\u001b[0m \u001b[0;34m=\u001b[0m \u001b[0;36m12345\u001b[0m\u001b[0;34m\u001b[0m\u001b[0;34m\u001b[0m\u001b[0m\n\u001b[0;32m----> 2\u001b[0;31m \u001b[0mn2\u001b[0m \u001b[0;34m=\u001b[0m \u001b[0mint\u001b[0m\u001b[0;34m(\u001b[0m\u001b[0mn\u001b[0m\u001b[0;34m[\u001b[0m\u001b[0;34m:\u001b[0m\u001b[0;34m:\u001b[0m\u001b[0;34m-\u001b[0m\u001b[0;36m1\u001b[0m\u001b[0;34m]\u001b[0m\u001b[0;34m)\u001b[0m\u001b[0;34m\u001b[0m\u001b[0;34m\u001b[0m\u001b[0m\n\u001b[0m\u001b[1;32m      3\u001b[0m \u001b[0mprint\u001b[0m\u001b[0;34m(\u001b[0m\u001b[0mn2\u001b[0m\u001b[0;34m)\u001b[0m\u001b[0;34m\u001b[0m\u001b[0;34m\u001b[0m\u001b[0m\n",
            "\u001b[0;31mTypeError\u001b[0m: 'int' object is not subscriptable"
          ]
        }
      ]
    }
  ]
}