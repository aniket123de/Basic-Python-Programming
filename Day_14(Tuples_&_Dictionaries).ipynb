{
  "nbformat": 4,
  "nbformat_minor": 0,
  "metadata": {
    "colab": {
      "provenance": [],
      "authorship_tag": "ABX9TyMkOopvYBtInOj5HnklH1E9",
      "include_colab_link": true
    },
    "kernelspec": {
      "name": "python3",
      "display_name": "Python 3"
    },
    "language_info": {
      "name": "python"
    }
  },
  "cells": [
    {
      "cell_type": "markdown",
      "metadata": {
        "id": "view-in-github",
        "colab_type": "text"
      },
      "source": [
        "<a href=\"https://colab.research.google.com/github/aniket123de/Basic-Python-Programming/blob/main/Day_14(Tuples_%26_Dictionaries).ipynb\" target=\"_parent\"><img src=\"https://colab.research.google.com/assets/colab-badge.svg\" alt=\"Open In Colab\"/></a>"
      ]
    },
    {
      "cell_type": "markdown",
      "source": [
        "# **Tuple Programs**"
      ],
      "metadata": {
        "id": "Ivl8egzexedR"
      }
    },
    {
      "cell_type": "markdown",
      "source": [
        "## **Indexing in Tuple :**"
      ],
      "metadata": {
        "id": "BDl9oeuVyJmY"
      }
    },
    {
      "cell_type": "code",
      "execution_count": null,
      "metadata": {
        "colab": {
          "base_uri": "https://localhost:8080/",
          "height": 218
        },
        "id": "4PH5qPQ9vNsS",
        "outputId": "baea3401-5714-47a6-9855-23f1612450e9"
      },
      "outputs": [
        {
          "output_type": "stream",
          "name": "stdout",
          "text": [
            "(1, 2, 3, 4, 5, 6, 7)\n",
            "6\n"
          ]
        },
        {
          "output_type": "error",
          "ename": "ValueError",
          "evalue": "tuple.index(x): x not in tuple",
          "traceback": [
            "\u001b[0;31m---------------------------------------------------------------------------\u001b[0m",
            "\u001b[0;31mValueError\u001b[0m                                Traceback (most recent call last)",
            "\u001b[0;32m<ipython-input-1-9a6ee253cfb8>\u001b[0m in \u001b[0;36m<cell line: 4>\u001b[0;34m()\u001b[0m\n\u001b[1;32m      2\u001b[0m \u001b[0mprint\u001b[0m\u001b[0;34m(\u001b[0m\u001b[0mx\u001b[0m\u001b[0;34m)\u001b[0m\u001b[0;34m\u001b[0m\u001b[0;34m\u001b[0m\u001b[0m\n\u001b[1;32m      3\u001b[0m \u001b[0mprint\u001b[0m\u001b[0;34m(\u001b[0m\u001b[0mx\u001b[0m\u001b[0;34m.\u001b[0m\u001b[0mindex\u001b[0m\u001b[0;34m(\u001b[0m\u001b[0;36m7\u001b[0m\u001b[0;34m)\u001b[0m\u001b[0;34m)\u001b[0m\u001b[0;34m\u001b[0m\u001b[0;34m\u001b[0m\u001b[0m\n\u001b[0;32m----> 4\u001b[0;31m \u001b[0mprint\u001b[0m\u001b[0;34m(\u001b[0m\u001b[0mx\u001b[0m\u001b[0;34m.\u001b[0m\u001b[0mindex\u001b[0m\u001b[0;34m(\u001b[0m\u001b[0;36m9\u001b[0m\u001b[0;34m)\u001b[0m\u001b[0;34m)\u001b[0m\u001b[0;34m\u001b[0m\u001b[0;34m\u001b[0m\u001b[0m\n\u001b[0m",
            "\u001b[0;31mValueError\u001b[0m: tuple.index(x): x not in tuple"
          ]
        }
      ],
      "source": [
        "x = (1,2,3,4,5,6,7)\n",
        "print(x)\n",
        "print(x.index(7))\n",
        "print(x.index(9))"
      ]
    },
    {
      "cell_type": "markdown",
      "source": [
        "## **Tuple Methods**"
      ],
      "metadata": {
        "id": "DgzuSNYdxd01"
      }
    },
    {
      "cell_type": "code",
      "source": [
        "dir(tuple)"
      ],
      "metadata": {
        "colab": {
          "base_uri": "https://localhost:8080/"
        },
        "id": "-qlgWBt8y13h",
        "outputId": "7dd039ac-2c2b-48ae-da04-d37192fd418f"
      },
      "execution_count": null,
      "outputs": [
        {
          "output_type": "execute_result",
          "data": {
            "text/plain": [
              "['__add__',\n",
              " '__class__',\n",
              " '__class_getitem__',\n",
              " '__contains__',\n",
              " '__delattr__',\n",
              " '__dir__',\n",
              " '__doc__',\n",
              " '__eq__',\n",
              " '__format__',\n",
              " '__ge__',\n",
              " '__getattribute__',\n",
              " '__getitem__',\n",
              " '__getnewargs__',\n",
              " '__gt__',\n",
              " '__hash__',\n",
              " '__init__',\n",
              " '__init_subclass__',\n",
              " '__iter__',\n",
              " '__le__',\n",
              " '__len__',\n",
              " '__lt__',\n",
              " '__mul__',\n",
              " '__ne__',\n",
              " '__new__',\n",
              " '__reduce__',\n",
              " '__reduce_ex__',\n",
              " '__repr__',\n",
              " '__rmul__',\n",
              " '__setattr__',\n",
              " '__sizeof__',\n",
              " '__str__',\n",
              " '__subclasshook__',\n",
              " 'count',\n",
              " 'index']"
            ]
          },
          "metadata": {},
          "execution_count": 2
        }
      ]
    },
    {
      "cell_type": "markdown",
      "source": [
        "## **Properties of Tuple**"
      ],
      "metadata": {
        "id": "oZpmuHlTy7IP"
      }
    },
    {
      "cell_type": "markdown",
      "source": [
        "### **1. Immutable**"
      ],
      "metadata": {
        "id": "_-txGT7D2Mok"
      }
    },
    {
      "cell_type": "code",
      "source": [
        "x = (1,2,3,4)\n",
        "print(x)\n",
        "x[2] = 40\n",
        "print(x)"
      ],
      "metadata": {
        "colab": {
          "base_uri": "https://localhost:8080/",
          "height": 218
        },
        "id": "9vm1Onyb2SV1",
        "outputId": "b639b317-2f45-4278-8d01-efc0099a0548"
      },
      "execution_count": null,
      "outputs": [
        {
          "output_type": "stream",
          "name": "stdout",
          "text": [
            "(1, 2, 3, 4)\n"
          ]
        },
        {
          "output_type": "error",
          "ename": "TypeError",
          "evalue": "'tuple' object does not support item assignment",
          "traceback": [
            "\u001b[0;31m---------------------------------------------------------------------------\u001b[0m",
            "\u001b[0;31mTypeError\u001b[0m                                 Traceback (most recent call last)",
            "\u001b[0;32m<ipython-input-4-a0c0c255c250>\u001b[0m in \u001b[0;36m<cell line: 3>\u001b[0;34m()\u001b[0m\n\u001b[1;32m      1\u001b[0m \u001b[0mx\u001b[0m \u001b[0;34m=\u001b[0m \u001b[0;34m(\u001b[0m\u001b[0;36m1\u001b[0m\u001b[0;34m,\u001b[0m\u001b[0;36m2\u001b[0m\u001b[0;34m,\u001b[0m\u001b[0;36m3\u001b[0m\u001b[0;34m,\u001b[0m\u001b[0;36m4\u001b[0m\u001b[0;34m)\u001b[0m\u001b[0;34m\u001b[0m\u001b[0;34m\u001b[0m\u001b[0m\n\u001b[1;32m      2\u001b[0m \u001b[0mprint\u001b[0m\u001b[0;34m(\u001b[0m\u001b[0mx\u001b[0m\u001b[0;34m)\u001b[0m\u001b[0;34m\u001b[0m\u001b[0;34m\u001b[0m\u001b[0m\n\u001b[0;32m----> 3\u001b[0;31m \u001b[0mx\u001b[0m\u001b[0;34m[\u001b[0m\u001b[0;36m2\u001b[0m\u001b[0;34m]\u001b[0m \u001b[0;34m=\u001b[0m \u001b[0;36m40\u001b[0m\u001b[0;34m\u001b[0m\u001b[0;34m\u001b[0m\u001b[0m\n\u001b[0m\u001b[1;32m      4\u001b[0m \u001b[0mprint\u001b[0m\u001b[0;34m(\u001b[0m\u001b[0mx\u001b[0m\u001b[0;34m)\u001b[0m\u001b[0;34m\u001b[0m\u001b[0;34m\u001b[0m\u001b[0m\n",
            "\u001b[0;31mTypeError\u001b[0m: 'tuple' object does not support item assignment"
          ]
        }
      ]
    },
    {
      "cell_type": "markdown",
      "source": [
        "### **2. Tuple is indexed**"
      ],
      "metadata": {
        "id": "lUehqcUz2Ype"
      }
    },
    {
      "cell_type": "code",
      "source": [
        "x = (1,2,3,4)\n",
        "print(x)\n",
        "print(x[2])"
      ],
      "metadata": {
        "colab": {
          "base_uri": "https://localhost:8080/"
        },
        "id": "2jH934q_2b4k",
        "outputId": "1c32153d-ebc0-4cf4-d1f7-8191049bff12"
      },
      "execution_count": null,
      "outputs": [
        {
          "output_type": "stream",
          "name": "stdout",
          "text": [
            "(1, 2, 3, 4)\n",
            "3\n"
          ]
        }
      ]
    },
    {
      "cell_type": "markdown",
      "source": [
        "### **3. Tuple is ordered**"
      ],
      "metadata": {
        "id": "7nfwA9Sx2hid"
      }
    },
    {
      "cell_type": "code",
      "source": [
        "x = (1,2,3,4,5,6)\n",
        "print(x)\n",
        "print(x[2])\n",
        "print(x)"
      ],
      "metadata": {
        "colab": {
          "base_uri": "https://localhost:8080/"
        },
        "id": "naEhPyoy2oBF",
        "outputId": "255cae02-e3d9-41b9-d2f1-d1589183f243"
      },
      "execution_count": null,
      "outputs": [
        {
          "output_type": "stream",
          "name": "stdout",
          "text": [
            "(1, 2, 3, 4, 5, 6)\n",
            "3\n",
            "(1, 2, 3, 4, 5, 6)\n"
          ]
        }
      ]
    },
    {
      "cell_type": "markdown",
      "source": [
        "## **Common Features of Tuple**"
      ],
      "metadata": {
        "id": "mIB4e0IB3tne"
      }
    },
    {
      "cell_type": "code",
      "source": [
        "x = (1,2,3,4,5,6)\n",
        "print(x)\n",
        "print(\"length\", len(x))\n",
        "print(\"sum\", sum(x))\n",
        "print(\"max\", max(x))\n",
        "print(\"min\", min(x))\n",
        "print(\"sort\", sorted(x))"
      ],
      "metadata": {
        "colab": {
          "base_uri": "https://localhost:8080/"
        },
        "id": "u2geiG5U3x2z",
        "outputId": "284c031a-ce40-4e57-e1c3-bdc6caa8dda6"
      },
      "execution_count": null,
      "outputs": [
        {
          "output_type": "stream",
          "name": "stdout",
          "text": [
            "(1, 2, 3, 4, 5, 6)\n",
            "length 6\n",
            "sum 21\n",
            "max 6\n",
            "min 1\n",
            "sort [1, 2, 3, 4, 5, 6]\n"
          ]
        }
      ]
    },
    {
      "cell_type": "markdown",
      "source": [
        "# **Dictionary Programs**"
      ],
      "metadata": {
        "id": "UjqxMPFt36uc"
      }
    },
    {
      "cell_type": "code",
      "source": [
        "x = { 'Ankan': 90, 'FG': 91, 'Anik': 92, \"juk\": 90}\n",
        "print(x)\n",
        "print(type(x))"
      ],
      "metadata": {
        "colab": {
          "base_uri": "https://localhost:8080/"
        },
        "id": "YWWBreT2whaB",
        "outputId": "41c371fc-992b-4827-8c55-80f960df6527"
      },
      "execution_count": null,
      "outputs": [
        {
          "output_type": "stream",
          "name": "stdout",
          "text": [
            "{'Ankan': 90, 'FG': 91, 'Anik': 92, 'juk': 90}\n",
            "<class 'dict'>\n"
          ]
        }
      ]
    },
    {
      "cell_type": "code",
      "source": [
        "x = { 'Ankan': 90, 'FG': 91, 'Anik': 92, \"juk\": 90}\n",
        "print(x.keys())\n",
        "print(x.values())"
      ],
      "metadata": {
        "colab": {
          "base_uri": "https://localhost:8080/"
        },
        "id": "8ng9SFjEwjMg",
        "outputId": "b423b237-0259-499c-b8f5-fd9dd6978b94"
      },
      "execution_count": null,
      "outputs": [
        {
          "output_type": "stream",
          "name": "stdout",
          "text": [
            "dict_keys(['Ankan', 'FG', 'Anik', 'juk'])\n",
            "dict_values([90, 91, 92, 90])\n"
          ]
        }
      ]
    },
    {
      "cell_type": "code",
      "source": [
        "cricket_world_cup = {\n",
        "    \"tournaments\": [\n",
        "        {\n",
        "            \"year\": 2019,\n",
        "            \"host\": \"England and Wales\",\n",
        "            \"winner\": \"England\",\n",
        "            \"runner_up\": \"New Zealand\",\n",
        "            \"final_score\": {\n",
        "                \"England\": 241,\n",
        "                \"New Zealand\": 241\n",
        "            },\n",
        "            \"super_over_score\": {\n",
        "                \"England\": 15,\n",
        "                \"New Zealand\": 15\n",
        "            },\n",
        "            \"boundary_count\": {\n",
        "                \"England\": 26,\n",
        "                \"New Zealand\": 17\n",
        "            },\n",
        "            \"teams\": [\n",
        "                {\n",
        "                    \"name\": \"England\",\n",
        "                    \"captain\": \"Eoin Morgan\",\n",
        "                    \"players\": [\n",
        "                        {\"name\": \"Joe Root\", \"runs\": 556, \"wickets\": 2},\n",
        "                        {\"name\": \"Ben Stokes\", \"runs\": 465, \"wickets\": 7},\n",
        "                        {\"name\": \"Jofra Archer\", \"runs\": 25, \"wickets\": 20}\n",
        "                    ]\n",
        "                },\n",
        "                {\n",
        "                    \"name\": \"New Zealand\",\n",
        "                    \"captain\": \"Kane Williamson\",\n",
        "                    \"players\": [\n",
        "                        {\"name\": \"Kane Williamson\", \"runs\": 578, \"wickets\": 0},\n",
        "                        {\"name\": \"Trent Boult\", \"runs\": 33, \"wickets\": 17},\n",
        "                        {\"name\": \"Lockie Ferguson\", \"runs\": 25, \"wickets\": 21}\n",
        "                    ]\n",
        "                }\n",
        "            ],\n",
        "            \"matches\": [\n",
        "                {\n",
        "                    \"date\": \"2019-05-30\",\n",
        "                    \"teams\": [\"England\", \"South Africa\"],\n",
        "                    \"result\": \"England won by 104 runs\",\n",
        "                    \"scores\": {\n",
        "                        \"England\": {\"runs\": 311, \"wickets\": 8},\n",
        "                        \"South Africa\": {\"runs\": 207, \"wickets\": 10}\n",
        "                    }\n",
        "                },\n",
        "                {\n",
        "                    \"date\": \"2019-07-14\",\n",
        "                    \"teams\": [\"England\", \"New Zealand\"],\n",
        "                    \"result\": \"Match tied (England won the Super Over on boundary count)\",\n",
        "                    \"scores\": {\n",
        "                        \"England\": {\"runs\": 241, \"wickets\": 10},\n",
        "                        \"New Zealand\": {\"runs\": 241, \"wickets\": 8}\n",
        "                    }\n",
        "                }\n",
        "            ]\n",
        "        },\n",
        "        {\n",
        "            \"year\": 2015,\n",
        "            \"host\": \"Australia and New Zealand\",\n",
        "            \"winner\": \"Australia\",\n",
        "            \"runner_up\": \"New Zealand\",\n",
        "            \"final_score\": {\n",
        "                \"Australia\": 186,\n",
        "                \"New Zealand\": 183\n",
        "            },\n",
        "            \"teams\": [\n",
        "                {\n",
        "                    \"name\": \"Australia\",\n",
        "                    \"captain\": \"Michael Clarke\",\n",
        "                    \"players\": [\n",
        "                        {\"name\": \"David Warner\", \"runs\": 345, \"wickets\": 0},\n",
        "                        {\"name\": \"Mitchell Starc\", \"runs\": 5, \"wickets\": 22},\n",
        "                        {\"name\": \"Steven Smith\", \"runs\": 402, \"wickets\": 1}\n",
        "                    ]\n",
        "                },\n",
        "                {\n",
        "                    \"name\": \"New Zealand\",\n",
        "                    \"captain\": \"Brendon McCullum\",\n",
        "                    \"players\": [\n",
        "                        {\"name\": \"Martin Guptill\", \"runs\": 547, \"wickets\": 0},\n",
        "                        {\"name\": \"Trent Boult\", \"runs\": 11, \"wickets\": 22},\n",
        "                        {\"name\": \"Daniel Vettori\", \"runs\": 74, \"wickets\": 15}\n",
        "                    ]\n",
        "                }\n",
        "            ],\n",
        "            \"matches\": [\n",
        "                {\n",
        "                    \"date\": \"2015-02-14\",\n",
        "                    \"teams\": [\"New Zealand\", \"Sri Lanka\"],\n",
        "                    \"result\": \"New Zealand won by 98 runs\",\n",
        "                    \"scores\": {\n",
        "                        \"New Zealand\": {\"runs\": 331, \"wickets\": 6},\n",
        "                        \"Sri Lanka\": {\"runs\": 233, \"wickets\": 10}\n",
        "                    }\n",
        "                },\n",
        "                {\n",
        "                    \"date\": \"2015-03-29\",\n",
        "                    \"teams\": [\"Australia\", \"New Zealand\"],\n",
        "                    \"result\": \"Australia won by 7 wickets\",\n",
        "                    \"scores\": {\n",
        "                        \"Australia\": {\"runs\": 186, \"wickets\": 3},\n",
        "                        \"New Zealand\": {\"runs\": 183, \"wickets\": 10}\n",
        "                    }\n",
        "                }\n",
        "            ]\n",
        "        }\n",
        "    ]\n",
        "}\n",
        "\n",
        "print(cricket_world_cup)"
      ],
      "metadata": {
        "colab": {
          "base_uri": "https://localhost:8080/"
        },
        "id": "zbeNat3Jw0zQ",
        "outputId": "241ccfac-7a37-4374-9b77-7e398ed79fa9"
      },
      "execution_count": null,
      "outputs": [
        {
          "output_type": "stream",
          "name": "stdout",
          "text": [
            "{'tournaments': [{'year': 2019, 'host': 'England and Wales', 'winner': 'England', 'runner_up': 'New Zealand', 'final_score': {'England': 241, 'New Zealand': 241}, 'super_over_score': {'England': 15, 'New Zealand': 15}, 'boundary_count': {'England': 26, 'New Zealand': 17}, 'teams': [{'name': 'England', 'captain': 'Eoin Morgan', 'players': [{'name': 'Joe Root', 'runs': 556, 'wickets': 2}, {'name': 'Ben Stokes', 'runs': 465, 'wickets': 7}, {'name': 'Jofra Archer', 'runs': 25, 'wickets': 20}]}, {'name': 'New Zealand', 'captain': 'Kane Williamson', 'players': [{'name': 'Kane Williamson', 'runs': 578, 'wickets': 0}, {'name': 'Trent Boult', 'runs': 33, 'wickets': 17}, {'name': 'Lockie Ferguson', 'runs': 25, 'wickets': 21}]}], 'matches': [{'date': '2019-05-30', 'teams': ['England', 'South Africa'], 'result': 'England won by 104 runs', 'scores': {'England': {'runs': 311, 'wickets': 8}, 'South Africa': {'runs': 207, 'wickets': 10}}}, {'date': '2019-07-14', 'teams': ['England', 'New Zealand'], 'result': 'Match tied (England won the Super Over on boundary count)', 'scores': {'England': {'runs': 241, 'wickets': 10}, 'New Zealand': {'runs': 241, 'wickets': 8}}}]}, {'year': 2015, 'host': 'Australia and New Zealand', 'winner': 'Australia', 'runner_up': 'New Zealand', 'final_score': {'Australia': 186, 'New Zealand': 183}, 'teams': [{'name': 'Australia', 'captain': 'Michael Clarke', 'players': [{'name': 'David Warner', 'runs': 345, 'wickets': 0}, {'name': 'Mitchell Starc', 'runs': 5, 'wickets': 22}, {'name': 'Steven Smith', 'runs': 402, 'wickets': 1}]}, {'name': 'New Zealand', 'captain': 'Brendon McCullum', 'players': [{'name': 'Martin Guptill', 'runs': 547, 'wickets': 0}, {'name': 'Trent Boult', 'runs': 11, 'wickets': 22}, {'name': 'Daniel Vettori', 'runs': 74, 'wickets': 15}]}], 'matches': [{'date': '2015-02-14', 'teams': ['New Zealand', 'Sri Lanka'], 'result': 'New Zealand won by 98 runs', 'scores': {'New Zealand': {'runs': 331, 'wickets': 6}, 'Sri Lanka': {'runs': 233, 'wickets': 10}}}, {'date': '2015-03-29', 'teams': ['Australia', 'New Zealand'], 'result': 'Australia won by 7 wickets', 'scores': {'Australia': {'runs': 186, 'wickets': 3}, 'New Zealand': {'runs': 183, 'wickets': 10}}}]}]}\n"
          ]
        }
      ]
    },
    {
      "cell_type": "code",
      "source": [
        "print(type(cricket_world_cup))"
      ],
      "metadata": {
        "colab": {
          "base_uri": "https://localhost:8080/"
        },
        "id": "q5lTOCGnw7Qz",
        "outputId": "f36b5079-4c69-4089-f6c9-51e8636d02f3"
      },
      "execution_count": null,
      "outputs": [
        {
          "output_type": "stream",
          "name": "stdout",
          "text": [
            "<class 'dict'>\n"
          ]
        }
      ]
    },
    {
      "cell_type": "code",
      "source": [
        "print(cricket_world_cup['tournaments'])"
      ],
      "metadata": {
        "colab": {
          "base_uri": "https://localhost:8080/"
        },
        "id": "AHciPUKNxEZX",
        "outputId": "9533990e-64c4-44b8-88e8-48417aceccd6"
      },
      "execution_count": null,
      "outputs": [
        {
          "output_type": "stream",
          "name": "stdout",
          "text": [
            "[{'year': 2019, 'host': 'England and Wales', 'winner': 'England', 'runner_up': 'New Zealand', 'final_score': {'England': 241, 'New Zealand': 241}, 'super_over_score': {'England': 15, 'New Zealand': 15}, 'boundary_count': {'England': 26, 'New Zealand': 17}, 'teams': [{'name': 'England', 'captain': 'Eoin Morgan', 'players': [{'name': 'Joe Root', 'runs': 556, 'wickets': 2}, {'name': 'Ben Stokes', 'runs': 465, 'wickets': 7}, {'name': 'Jofra Archer', 'runs': 25, 'wickets': 20}]}, {'name': 'New Zealand', 'captain': 'Kane Williamson', 'players': [{'name': 'Kane Williamson', 'runs': 578, 'wickets': 0}, {'name': 'Trent Boult', 'runs': 33, 'wickets': 17}, {'name': 'Lockie Ferguson', 'runs': 25, 'wickets': 21}]}], 'matches': [{'date': '2019-05-30', 'teams': ['England', 'South Africa'], 'result': 'England won by 104 runs', 'scores': {'England': {'runs': 311, 'wickets': 8}, 'South Africa': {'runs': 207, 'wickets': 10}}}, {'date': '2019-07-14', 'teams': ['England', 'New Zealand'], 'result': 'Match tied (England won the Super Over on boundary count)', 'scores': {'England': {'runs': 241, 'wickets': 10}, 'New Zealand': {'runs': 241, 'wickets': 8}}}]}, {'year': 2015, 'host': 'Australia and New Zealand', 'winner': 'Australia', 'runner_up': 'New Zealand', 'final_score': {'Australia': 186, 'New Zealand': 183}, 'teams': [{'name': 'Australia', 'captain': 'Michael Clarke', 'players': [{'name': 'David Warner', 'runs': 345, 'wickets': 0}, {'name': 'Mitchell Starc', 'runs': 5, 'wickets': 22}, {'name': 'Steven Smith', 'runs': 402, 'wickets': 1}]}, {'name': 'New Zealand', 'captain': 'Brendon McCullum', 'players': [{'name': 'Martin Guptill', 'runs': 547, 'wickets': 0}, {'name': 'Trent Boult', 'runs': 11, 'wickets': 22}, {'name': 'Daniel Vettori', 'runs': 74, 'wickets': 15}]}], 'matches': [{'date': '2015-02-14', 'teams': ['New Zealand', 'Sri Lanka'], 'result': 'New Zealand won by 98 runs', 'scores': {'New Zealand': {'runs': 331, 'wickets': 6}, 'Sri Lanka': {'runs': 233, 'wickets': 10}}}, {'date': '2015-03-29', 'teams': ['Australia', 'New Zealand'], 'result': 'Australia won by 7 wickets', 'scores': {'Australia': {'runs': 186, 'wickets': 3}, 'New Zealand': {'runs': 183, 'wickets': 10}}}]}]\n"
          ]
        }
      ]
    },
    {
      "cell_type": "code",
      "source": [
        "print(type(cricket_world_cup['tournaments']))"
      ],
      "metadata": {
        "colab": {
          "base_uri": "https://localhost:8080/"
        },
        "id": "geCxKjN8xIp_",
        "outputId": "59a5d9e8-724d-4570-f852-73066501e434"
      },
      "execution_count": null,
      "outputs": [
        {
          "output_type": "stream",
          "name": "stdout",
          "text": [
            "<class 'list'>\n"
          ]
        }
      ]
    },
    {
      "cell_type": "code",
      "source": [
        "print(cricket_world_cup['tournaments'][0])"
      ],
      "metadata": {
        "colab": {
          "base_uri": "https://localhost:8080/"
        },
        "id": "E_SErM5DxLNO",
        "outputId": "2f434d34-2986-4bd5-cdcf-9b0bbe67b4d0"
      },
      "execution_count": null,
      "outputs": [
        {
          "output_type": "stream",
          "name": "stdout",
          "text": [
            "{'year': 2019, 'host': 'England and Wales', 'winner': 'England', 'runner_up': 'New Zealand', 'final_score': {'England': 241, 'New Zealand': 241}, 'super_over_score': {'England': 15, 'New Zealand': 15}, 'boundary_count': {'England': 26, 'New Zealand': 17}, 'teams': [{'name': 'England', 'captain': 'Eoin Morgan', 'players': [{'name': 'Joe Root', 'runs': 556, 'wickets': 2}, {'name': 'Ben Stokes', 'runs': 465, 'wickets': 7}, {'name': 'Jofra Archer', 'runs': 25, 'wickets': 20}]}, {'name': 'New Zealand', 'captain': 'Kane Williamson', 'players': [{'name': 'Kane Williamson', 'runs': 578, 'wickets': 0}, {'name': 'Trent Boult', 'runs': 33, 'wickets': 17}, {'name': 'Lockie Ferguson', 'runs': 25, 'wickets': 21}]}], 'matches': [{'date': '2019-05-30', 'teams': ['England', 'South Africa'], 'result': 'England won by 104 runs', 'scores': {'England': {'runs': 311, 'wickets': 8}, 'South Africa': {'runs': 207, 'wickets': 10}}}, {'date': '2019-07-14', 'teams': ['England', 'New Zealand'], 'result': 'Match tied (England won the Super Over on boundary count)', 'scores': {'England': {'runs': 241, 'wickets': 10}, 'New Zealand': {'runs': 241, 'wickets': 8}}}]}\n"
          ]
        }
      ]
    },
    {
      "cell_type": "code",
      "source": [
        "print(type(cricket_world_cup['tournaments'][0]))"
      ],
      "metadata": {
        "colab": {
          "base_uri": "https://localhost:8080/"
        },
        "id": "IKzaRhVpxN5o",
        "outputId": "04367579-1a7a-4473-e238-d43fb8d8104b"
      },
      "execution_count": null,
      "outputs": [
        {
          "output_type": "stream",
          "name": "stdout",
          "text": [
            "<class 'dict'>\n"
          ]
        }
      ]
    },
    {
      "cell_type": "code",
      "source": [
        "x = cricket_world_cup['tournaments'][0]\n",
        "print(type(x))"
      ],
      "metadata": {
        "colab": {
          "base_uri": "https://localhost:8080/"
        },
        "id": "M0d-0DX5xo7n",
        "outputId": "e989c808-aac6-441e-a52c-d7c8eeada8a2"
      },
      "execution_count": null,
      "outputs": [
        {
          "output_type": "stream",
          "name": "stdout",
          "text": [
            "<class 'dict'>\n"
          ]
        }
      ]
    },
    {
      "cell_type": "code",
      "source": [
        "print(x['year'])\n",
        "print(x[\"host\"])\n",
        "print(x['final_score'])\n",
        "print(x['final_score']['England'])"
      ],
      "metadata": {
        "colab": {
          "base_uri": "https://localhost:8080/"
        },
        "id": "Lls8OsRCxtHQ",
        "outputId": "b52554e4-b2be-47a1-abfe-a88f2e698c05"
      },
      "execution_count": null,
      "outputs": [
        {
          "output_type": "stream",
          "name": "stdout",
          "text": [
            "2019\n",
            "England and Wales\n",
            "{'England': 241, 'New Zealand': 241}\n",
            "241\n"
          ]
        }
      ]
    },
    {
      "cell_type": "code",
      "source": [
        "print(x['final_score']['England'])\n",
        "print(type(x['final_score']['England']))"
      ],
      "metadata": {
        "colab": {
          "base_uri": "https://localhost:8080/"
        },
        "id": "omA2i6HFxwDv",
        "outputId": "e1174ff6-a7a8-4082-d73b-27129c328aec"
      },
      "execution_count": null,
      "outputs": [
        {
          "output_type": "stream",
          "name": "stdout",
          "text": [
            "241\n",
            "<class 'int'>\n"
          ]
        }
      ]
    },
    {
      "cell_type": "code",
      "source": [
        "print(x['boundary_count']['England'])\n",
        "print(x['boundary_count']['New Zealand'])"
      ],
      "metadata": {
        "colab": {
          "base_uri": "https://localhost:8080/"
        },
        "id": "FAmV0UuTxyxe",
        "outputId": "14cc355f-bee0-442b-c7ed-c78d0244214f"
      },
      "execution_count": null,
      "outputs": [
        {
          "output_type": "stream",
          "name": "stdout",
          "text": [
            "26\n",
            "17\n"
          ]
        }
      ]
    },
    {
      "cell_type": "code",
      "source": [
        "print(x['teams'][0])\n",
        "print(x['teams'][0]['name'])\n",
        "print(x['teams'][0]['players'])\n",
        "print(x['teams'][0]['players'][0])\n",
        "print(x['teams'][0]['players'][0]['name'])"
      ],
      "metadata": {
        "colab": {
          "base_uri": "https://localhost:8080/"
        },
        "id": "lKprZwr9Hv7y",
        "outputId": "db5cf901-a2cc-481c-ccfb-9e9e29a9f433"
      },
      "execution_count": null,
      "outputs": [
        {
          "output_type": "stream",
          "name": "stdout",
          "text": [
            "{'name': 'England', 'captain': 'Eoin Morgan', 'players': [{'name': 'Joe Root', 'runs': 556, 'wickets': 2}, {'name': 'Ben Stokes', 'runs': 465, 'wickets': 7}, {'name': 'Jofra Archer', 'runs': 25, 'wickets': 20}]}\n",
            "England\n",
            "[{'name': 'Joe Root', 'runs': 556, 'wickets': 2}, {'name': 'Ben Stokes', 'runs': 465, 'wickets': 7}, {'name': 'Jofra Archer', 'runs': 25, 'wickets': 20}]\n",
            "{'name': 'Joe Root', 'runs': 556, 'wickets': 2}\n",
            "Joe Root\n"
          ]
        }
      ]
    },
    {
      "cell_type": "code",
      "source": [
        "dir(dict)\n"
      ],
      "metadata": {
        "colab": {
          "base_uri": "https://localhost:8080/"
        },
        "id": "4Ean9QEUIIsz",
        "outputId": "e44b3b04-bf92-40a2-afe2-7d1dc877298d"
      },
      "execution_count": null,
      "outputs": [
        {
          "output_type": "execute_result",
          "data": {
            "text/plain": [
              "['__class__',\n",
              " '__class_getitem__',\n",
              " '__contains__',\n",
              " '__delattr__',\n",
              " '__delitem__',\n",
              " '__dir__',\n",
              " '__doc__',\n",
              " '__eq__',\n",
              " '__format__',\n",
              " '__ge__',\n",
              " '__getattribute__',\n",
              " '__getitem__',\n",
              " '__gt__',\n",
              " '__hash__',\n",
              " '__init__',\n",
              " '__init_subclass__',\n",
              " '__ior__',\n",
              " '__iter__',\n",
              " '__le__',\n",
              " '__len__',\n",
              " '__lt__',\n",
              " '__ne__',\n",
              " '__new__',\n",
              " '__or__',\n",
              " '__reduce__',\n",
              " '__reduce_ex__',\n",
              " '__repr__',\n",
              " '__reversed__',\n",
              " '__ror__',\n",
              " '__setattr__',\n",
              " '__setitem__',\n",
              " '__sizeof__',\n",
              " '__str__',\n",
              " '__subclasshook__',\n",
              " 'clear',\n",
              " 'copy',\n",
              " 'fromkeys',\n",
              " 'get',\n",
              " 'items',\n",
              " 'keys',\n",
              " 'pop',\n",
              " 'popitem',\n",
              " 'setdefault',\n",
              " 'update',\n",
              " 'values']"
            ]
          },
          "metadata": {},
          "execution_count": 15
        }
      ]
    },
    {
      "cell_type": "markdown",
      "source": [
        "## *   **Keys are unique !**"
      ],
      "metadata": {
        "id": "yjA69MSlMWop"
      }
    },
    {
      "cell_type": "code",
      "source": [
        "x = {'abc': 18,\n",
        "     'xyz': 20}\n",
        "print(x)\n",
        "x = {'abc': 18,\n",
        "     'xyz': 20,\n",
        "     'abc': 50,\n",
        "     'xyz': 100}\n",
        "print(x)\n"
      ],
      "metadata": {
        "colab": {
          "base_uri": "https://localhost:8080/"
        },
        "id": "aKr_FSquMnmX",
        "outputId": "74ee584b-f4ec-41e6-b17a-1f182c0427dd"
      },
      "execution_count": null,
      "outputs": [
        {
          "output_type": "stream",
          "name": "stdout",
          "text": [
            "{'abc': 18, 'xyz': 20}\n",
            "{'abc': 50, 'xyz': 100}\n"
          ]
        }
      ]
    },
    {
      "cell_type": "code",
      "source": [
        "x = {'abc': 18,\n",
        "     'xyz': 20}\n",
        "print(x)\n",
        "x['abc'] = 75 # can be updated like this also\n",
        "print(x)"
      ],
      "metadata": {
        "colab": {
          "base_uri": "https://localhost:8080/"
        },
        "id": "uOoZ8vnzMudj",
        "outputId": "6574a0ec-046b-4791-c1bb-793429929df2"
      },
      "execution_count": null,
      "outputs": [
        {
          "output_type": "stream",
          "name": "stdout",
          "text": [
            "{'abc': 18, 'xyz': 20}\n",
            "{'abc': 75, 'xyz': 20}\n"
          ]
        }
      ]
    },
    {
      "cell_type": "markdown",
      "source": [
        "## **Methods in Dictionaries**"
      ],
      "metadata": {
        "id": "YPMhAtRPIOy_"
      }
    },
    {
      "cell_type": "markdown",
      "source": [
        "### **1. clear() -**"
      ],
      "metadata": {
        "id": "PWXOXt4tIV9d"
      }
    },
    {
      "cell_type": "code",
      "source": [
        "x = {'abc': 18,\n",
        "     'xyz': 20}\n",
        "print(x)\n",
        "x.clear()\n",
        "print(x)"
      ],
      "metadata": {
        "colab": {
          "base_uri": "https://localhost:8080/"
        },
        "id": "CUWXfki2Iaar",
        "outputId": "4f1829d4-0ec6-42ab-d4fa-3dc553542d12"
      },
      "execution_count": null,
      "outputs": [
        {
          "output_type": "stream",
          "name": "stdout",
          "text": [
            "{'abc': 18, 'xyz': 20}\n",
            "{}\n"
          ]
        }
      ]
    },
    {
      "cell_type": "markdown",
      "source": [
        "### **2. copy() -**"
      ],
      "metadata": {
        "id": "HrIZcfqMIfZH"
      }
    },
    {
      "cell_type": "code",
      "source": [
        "x = {'abc': 18,\n",
        "     'xyz': 20}\n",
        "print(x)\n",
        "y = x.copy()\n",
        "print(y)\n",
        "print(id(x))\n",
        "print(id(y))"
      ],
      "metadata": {
        "colab": {
          "base_uri": "https://localhost:8080/"
        },
        "id": "TjxoGq-CIoGS",
        "outputId": "60108bba-025a-4e35-cf26-dbf8834f4dbb"
      },
      "execution_count": null,
      "outputs": [
        {
          "output_type": "stream",
          "name": "stdout",
          "text": [
            "{'abc': 18, 'xyz': 20}\n",
            "{'abc': 18, 'xyz': 20}\n",
            "133632546139136\n",
            "133632600119872\n"
          ]
        }
      ]
    },
    {
      "cell_type": "markdown",
      "source": [
        "### **3. fromkeys() -**"
      ],
      "metadata": {
        "id": "71wncelaIxIm"
      }
    },
    {
      "cell_type": "code",
      "source": [
        "x = {'abc': 18,\n",
        "     'xyz': 20}\n",
        "print(x)\n",
        "y = dict.fromkeys(x)\n",
        "print(y)"
      ],
      "metadata": {
        "id": "D0K5aqN9I0G-"
      },
      "execution_count": null,
      "outputs": []
    },
    {
      "cell_type": "markdown",
      "source": [
        "*The fromkeys method in Python is used to create a new dictionary from a sequence of keys with a specified value. The syntax for fromkeys is as follows: dict.fromkeys(keys, value)*"
      ],
      "metadata": {
        "id": "z91tkF0-JB9u"
      }
    },
    {
      "cell_type": "markdown",
      "source": [
        "### **4. get() -**"
      ],
      "metadata": {
        "id": "kjRK553JJfnD"
      }
    },
    {
      "cell_type": "code",
      "source": [
        "x = {'abc': 18,\n",
        "     'xyz': 20}\n",
        "print(x)\n",
        "print(x.get('abc'))\n",
        "print(x.get('xyz'))\n",
        "\n",
        "# alternative\n",
        "\n",
        "print(x['abc'])\n",
        "print(x['xyz'])"
      ],
      "metadata": {
        "colab": {
          "base_uri": "https://localhost:8080/"
        },
        "id": "ml_AfNCDJkXZ",
        "outputId": "8b8d9fd3-e100-4a80-c9f0-6ae1ac35131a"
      },
      "execution_count": null,
      "outputs": [
        {
          "output_type": "stream",
          "name": "stdout",
          "text": [
            "{'abc': 18, 'xyz': 20}\n",
            "18\n",
            "20\n",
            "18\n",
            "20\n"
          ]
        }
      ]
    },
    {
      "cell_type": "markdown",
      "source": [
        "*The get method in Python dictionaries is used to retrieve the value associated with a specified key. If the key is not found in the dictionary, get returns a default value, which is None if not specified.*"
      ],
      "metadata": {
        "id": "n2jsoIqBLnF-"
      }
    },
    {
      "cell_type": "markdown",
      "source": [
        "### **5. items() -**"
      ],
      "metadata": {
        "id": "8_BVVLvcMy2G"
      }
    },
    {
      "cell_type": "code",
      "source": [
        "x = {'abc': 18,\n",
        "     'xyz': 20}\n",
        "print(x)\n",
        "print(x.items())"
      ],
      "metadata": {
        "colab": {
          "base_uri": "https://localhost:8080/"
        },
        "id": "wX2QMKupM6Ma",
        "outputId": "eb3a0cd4-5d8a-4101-ded9-cfcf79890389"
      },
      "execution_count": null,
      "outputs": [
        {
          "output_type": "stream",
          "name": "stdout",
          "text": [
            "{'abc': 18, 'xyz': 20}\n",
            "dict_items([('abc', 18), ('xyz', 20)])\n"
          ]
        }
      ]
    },
    {
      "cell_type": "markdown",
      "source": [
        "### **6. keys() -**"
      ],
      "metadata": {
        "id": "lET9TBEgNEwQ"
      }
    },
    {
      "cell_type": "code",
      "source": [
        "x = {'abc': 18,\n",
        "     'xyz': 20}\n",
        "print(x)\n",
        "print(x.keys())"
      ],
      "metadata": {
        "colab": {
          "base_uri": "https://localhost:8080/"
        },
        "id": "WnLu_kjDNEZY",
        "outputId": "305be084-36b0-45db-8140-9b854cb8a847"
      },
      "execution_count": null,
      "outputs": [
        {
          "output_type": "stream",
          "name": "stdout",
          "text": [
            "{'abc': 18, 'xyz': 20}\n",
            "dict_keys(['abc', 'xyz'])\n"
          ]
        }
      ]
    },
    {
      "cell_type": "markdown",
      "source": [
        "### **7. values() -**"
      ],
      "metadata": {
        "id": "MijY2FP_NYLd"
      }
    },
    {
      "cell_type": "code",
      "source": [
        "x = {'abc': 18,\n",
        "     'xyz': 20}\n",
        "print(x)\n",
        "print(x.values())"
      ],
      "metadata": {
        "colab": {
          "base_uri": "https://localhost:8080/"
        },
        "id": "eei4KjdCNbk9",
        "outputId": "6587bfdb-2794-4135-f7fa-3db5c09c8c6a"
      },
      "execution_count": null,
      "outputs": [
        {
          "output_type": "stream",
          "name": "stdout",
          "text": [
            "{'abc': 18, 'xyz': 20}\n",
            "dict_values([18, 20])\n"
          ]
        }
      ]
    },
    {
      "cell_type": "markdown",
      "source": [
        "### **8. pop() -**"
      ],
      "metadata": {
        "id": "5pBYgHsvNjw0"
      }
    },
    {
      "cell_type": "code",
      "source": [
        "x = {'abc': 18,\n",
        "     'xyz': 20,\n",
        "     'pqr': 78}\n",
        "print(x)\n",
        "print(x.pop('xyz'))\n",
        "print(x)"
      ],
      "metadata": {
        "colab": {
          "base_uri": "https://localhost:8080/"
        },
        "id": "HU0I6NpYNnOQ",
        "outputId": "2523420e-e3f7-4fb0-abe0-ccdf9f99c8f5"
      },
      "execution_count": null,
      "outputs": [
        {
          "output_type": "stream",
          "name": "stdout",
          "text": [
            "{'abc': 18, 'xyz': 20, 'pqr': 78}\n",
            "20\n",
            "{'abc': 18, 'pqr': 78}\n"
          ]
        }
      ]
    },
    {
      "cell_type": "markdown",
      "source": [
        "### **9. popitem() -**"
      ],
      "metadata": {
        "id": "WbUNde8UNqbk"
      }
    },
    {
      "cell_type": "code",
      "source": [
        "x = {'abc': 18,\n",
        "     'xyz': 20,\n",
        "     'pqr': 78}\n",
        "print(x)\n",
        "print(x.popitem())\n",
        "print(x)"
      ],
      "metadata": {
        "colab": {
          "base_uri": "https://localhost:8080/"
        },
        "id": "RUmQousnN4kj",
        "outputId": "e3986983-dfb0-447d-9a8a-016de076a43c"
      },
      "execution_count": null,
      "outputs": [
        {
          "output_type": "stream",
          "name": "stdout",
          "text": [
            "{'abc': 18, 'xyz': 20, 'pqr': 78}\n",
            "('pqr', 78)\n",
            "{'abc': 18, 'xyz': 20}\n"
          ]
        }
      ]
    },
    {
      "cell_type": "markdown",
      "source": [
        "*The popitem() method in Python dictionaries is used to remove and return the last key-value pair as a tuple from the dictionary. This method is especially useful when you need to remove items from a dictionary in a LIFO (Last In, First Out) order.*"
      ],
      "metadata": {
        "id": "1kaNoritOfzm"
      }
    },
    {
      "cell_type": "markdown",
      "source": [
        "### **10. setdefault() -**"
      ],
      "metadata": {
        "id": "MCrGX5Y1N4yv"
      }
    },
    {
      "cell_type": "code",
      "source": [
        "x = {'abc': 18,\n",
        "     'xyz': 20,\n",
        "     'pqr': 78}\n",
        "print(x)\n",
        "print(x.setdefault('abc'))\n",
        "print(x)\n",
        "print(x.setdefault('mno',69))\n",
        "print(x)"
      ],
      "metadata": {
        "id": "1OCXP-E8N8ZA",
        "colab": {
          "base_uri": "https://localhost:8080/"
        },
        "outputId": "e0c8351f-6fb0-4cbb-899a-c8eb9e2de336"
      },
      "execution_count": null,
      "outputs": [
        {
          "output_type": "stream",
          "name": "stdout",
          "text": [
            "{'abc': 18, 'xyz': 20, 'pqr': 78}\n",
            "18\n",
            "{'abc': 18, 'xyz': 20, 'pqr': 78}\n",
            "69\n",
            "{'abc': 18, 'xyz': 20, 'pqr': 78, 'mno': 69}\n"
          ]
        }
      ]
    },
    {
      "cell_type": "markdown",
      "source": [
        "*   *Here , if the key is already present then using setdefault(key,value) , we can't update the value for the key.*\n",
        "*   *If the key isn't present , then the setdefault(key,value) will help to add lkey and value as new pair in the original dictionary.*\n",
        "\n"
      ],
      "metadata": {
        "id": "KTAkDv13Abib"
      }
    },
    {
      "cell_type": "markdown",
      "source": [
        "### **11. update() -**"
      ],
      "metadata": {
        "id": "Ljz6RXSGN8nW"
      }
    },
    {
      "cell_type": "code",
      "source": [
        "x = {'abc': 18,\n",
        "     'xyz': 20,\n",
        "     'pqr': 78}\n",
        "print(x)\n",
        "y = {'mno': 100,\n",
        "     'pqr': 200}\n",
        "print(y)\n",
        "x.update(y)\n",
        "print(x)\n"
      ],
      "metadata": {
        "id": "M6tDMb3SOBS_",
        "colab": {
          "base_uri": "https://localhost:8080/"
        },
        "outputId": "02f7bef6-0d02-4f86-fb8b-c73cfd552723"
      },
      "execution_count": null,
      "outputs": [
        {
          "output_type": "stream",
          "name": "stdout",
          "text": [
            "{'abc': 18, 'xyz': 20, 'pqr': 78}\n",
            "{'mno': 100, 'pqr': 200}\n",
            "{'abc': 18, 'xyz': 20, 'pqr': 200, 'mno': 100}\n"
          ]
        }
      ]
    },
    {
      "cell_type": "markdown",
      "source": [
        "*The update method in Python dictionaries is used to update the dictionary with elements from another dictionary or from an iterable of key-value pairs. If the key already exists in the dictionary, its value will be updated; if the key does not exist, it will be added.*"
      ],
      "metadata": {
        "id": "vqg3r1YgDUvS"
      }
    }
  ]
}