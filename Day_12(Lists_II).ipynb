{
  "nbformat": 4,
  "nbformat_minor": 0,
  "metadata": {
    "colab": {
      "provenance": [],
      "authorship_tag": "ABX9TyNMNLO86NsEd15BJXYLs97m",
      "include_colab_link": true
    },
    "kernelspec": {
      "name": "python3",
      "display_name": "Python 3"
    },
    "language_info": {
      "name": "python"
    }
  },
  "cells": [
    {
      "cell_type": "markdown",
      "metadata": {
        "id": "view-in-github",
        "colab_type": "text"
      },
      "source": [
        "<a href=\"https://colab.research.google.com/github/aniket123de/Basic-Python-Programming/blob/main/Day_12(Lists_II).ipynb\" target=\"_parent\"><img src=\"https://colab.research.google.com/assets/colab-badge.svg\" alt=\"Open In Colab\"/></a>"
      ]
    },
    {
      "cell_type": "markdown",
      "source": [
        "# **Methods of List :**"
      ],
      "metadata": {
        "id": "76aoSrzKsLhm"
      }
    },
    {
      "cell_type": "code",
      "execution_count": null,
      "metadata": {
        "colab": {
          "base_uri": "https://localhost:8080/"
        },
        "id": "vp9pKO2Nrw35",
        "outputId": "f92e6c35-0928-4ccd-a781-9baca92eeef9"
      },
      "outputs": [
        {
          "output_type": "execute_result",
          "data": {
            "text/plain": [
              "['__add__',\n",
              " '__class__',\n",
              " '__class_getitem__',\n",
              " '__contains__',\n",
              " '__delattr__',\n",
              " '__delitem__',\n",
              " '__dir__',\n",
              " '__doc__',\n",
              " '__eq__',\n",
              " '__format__',\n",
              " '__ge__',\n",
              " '__getattribute__',\n",
              " '__getitem__',\n",
              " '__gt__',\n",
              " '__hash__',\n",
              " '__iadd__',\n",
              " '__imul__',\n",
              " '__init__',\n",
              " '__init_subclass__',\n",
              " '__iter__',\n",
              " '__le__',\n",
              " '__len__',\n",
              " '__lt__',\n",
              " '__mul__',\n",
              " '__ne__',\n",
              " '__new__',\n",
              " '__reduce__',\n",
              " '__reduce_ex__',\n",
              " '__repr__',\n",
              " '__reversed__',\n",
              " '__rmul__',\n",
              " '__setattr__',\n",
              " '__setitem__',\n",
              " '__sizeof__',\n",
              " '__str__',\n",
              " '__subclasshook__',\n",
              " 'append',\n",
              " 'clear',\n",
              " 'copy',\n",
              " 'count',\n",
              " 'extend',\n",
              " 'index',\n",
              " 'insert',\n",
              " 'pop',\n",
              " 'remove',\n",
              " 'reverse',\n",
              " 'sort']"
            ]
          },
          "metadata": {},
          "execution_count": 1
        }
      ],
      "source": [
        "dir(list)"
      ]
    },
    {
      "cell_type": "markdown",
      "source": [
        "### **1.) append() - Insert element at the end.**"
      ],
      "metadata": {
        "id": "PgfqJKxrs_I-"
      }
    },
    {
      "cell_type": "code",
      "source": [
        "x = [10,20,50,80]\n",
        "print(x)\n",
        "x.append(100)\n",
        "print(x)\n",
        "x.append([90,70])\n",
        "print(x)\n",
        "x.extend([60,30]) # if want to print without square bracket.\n",
        "print(x)\n",
        "x.append((25,50)) # Tuple\n",
        "print(x)\n",
        "x.append({23,89}) # Set\n",
        "print(x)\n",
        "x.append({'name':'John'}) # Dictionary\n",
        "print(x)"
      ],
      "metadata": {
        "colab": {
          "base_uri": "https://localhost:8080/"
        },
        "id": "ahnrt9q1tAFo",
        "outputId": "b14138d1-cf05-4463-9e9f-58de8fc29a03"
      },
      "execution_count": null,
      "outputs": [
        {
          "output_type": "stream",
          "name": "stdout",
          "text": [
            "[10, 20, 50, 80]\n",
            "[10, 20, 50, 80, 100]\n",
            "[10, 20, 50, 80, 100, [90, 70]]\n",
            "[10, 20, 50, 80, 100, [90, 70], 60, 30]\n",
            "[10, 20, 50, 80, 100, [90, 70], 60, 30, (25, 50)]\n",
            "[10, 20, 50, 80, 100, [90, 70], 60, 30, (25, 50), {89, 23}]\n",
            "[10, 20, 50, 80, 100, [90, 70], 60, 30, (25, 50), {89, 23}, {'name': 'John'}]\n"
          ]
        }
      ]
    },
    {
      "cell_type": "markdown",
      "source": [
        "*A list can append another list,tuple,set.*"
      ],
      "metadata": {
        "id": "Z9xDuZlftFdX"
      }
    },
    {
      "cell_type": "markdown",
      "source": [
        "### **2.) clear() - To remove all the elements from a list.**"
      ],
      "metadata": {
        "id": "_6Y7kGb7tGWf"
      }
    },
    {
      "cell_type": "code",
      "source": [
        "x = [10,20,30,40]\n",
        "print(x)\n",
        "x.clear()\n",
        "print(x)"
      ],
      "metadata": {
        "colab": {
          "base_uri": "https://localhost:8080/"
        },
        "id": "X9gxZ4SCtLCY",
        "outputId": "0709cfb2-ab51-4b51-9980-2c3ce3e41680"
      },
      "execution_count": null,
      "outputs": [
        {
          "output_type": "stream",
          "name": "stdout",
          "text": [
            "[10, 20, 30, 40]\n",
            "[]\n"
          ]
        }
      ]
    },
    {
      "cell_type": "markdown",
      "source": [
        "### **3.) copy() -**"
      ],
      "metadata": {
        "id": "feqvR-AatPbQ"
      }
    },
    {
      "cell_type": "code",
      "source": [
        "x = [10,20,30,40]\n",
        "print(x)\n",
        "\n",
        "y = x.copy() # Deep Copy\n",
        "print(y)\n",
        "\n",
        "z=x # Shallow Copy\n",
        "print(z)\n",
        "\n",
        "print(id(x))\n",
        "print(id(y))\n",
        "print(id(z))"
      ],
      "metadata": {
        "id": "MTAFkfEttQQ4"
      },
      "execution_count": null,
      "outputs": []
    },
    {
      "cell_type": "markdown",
      "source": [
        "Here, We are not creating a copy of x, we are providing alias name for x i.e. z\n",
        "Here we are creating a shallow copy.\n",
        "\n",
        "If we update x that will be reflected at y."
      ],
      "metadata": {
        "id": "rf1TpJB0tUx3"
      }
    },
    {
      "cell_type": "markdown",
      "source": [
        "### **4.) count() -**"
      ],
      "metadata": {
        "id": "xily8mi6taIv"
      }
    },
    {
      "cell_type": "code",
      "source": [
        "x = [10,20,30,40]\n",
        "print(x)\n",
        "\n",
        "y = x.count(10)\n",
        "print(y)\n",
        "\n",
        "z = x.count(50)\n",
        "print(z)"
      ],
      "metadata": {
        "colab": {
          "base_uri": "https://localhost:8080/"
        },
        "id": "9iHQftDhtbGw",
        "outputId": "96103de9-cf51-47b0-92c2-6e631bb0deca"
      },
      "execution_count": null,
      "outputs": [
        {
          "output_type": "stream",
          "name": "stdout",
          "text": [
            "[10, 20, 30, 40]\n",
            "1\n",
            "0\n"
          ]
        }
      ]
    },
    {
      "cell_type": "markdown",
      "source": [
        "*This method will return the no of occurence within a list.*\n",
        "*If number isn't present it'll return 0.*"
      ],
      "metadata": {
        "id": "WYniWLuR1wuI"
      }
    },
    {
      "cell_type": "markdown",
      "source": [
        "### **5.) extend() -**"
      ],
      "metadata": {
        "id": "gIVmP5SR1-_D"
      }
    },
    {
      "cell_type": "code",
      "source": [
        "x = [10,20,30,40]\n",
        "print(x)\n",
        "\n",
        "y = [100,200,300]\n",
        "x.extend(y)\n",
        "print(x)"
      ],
      "metadata": {
        "colab": {
          "base_uri": "https://localhost:8080/"
        },
        "id": "SjcagQ_B2GYN",
        "outputId": "6ade3993-5d3e-4993-f2df-914b9d6765ac"
      },
      "execution_count": null,
      "outputs": [
        {
          "output_type": "stream",
          "name": "stdout",
          "text": [
            "[10, 20, 30, 40]\n",
            "[10, 20, 30, 40, 100, 200, 300]\n"
          ]
        }
      ]
    },
    {
      "cell_type": "code",
      "source": [
        "x = [10,20,30,40]\n",
        "print(x)\n",
        "\n",
        "x.extend(80)\n",
        "print(x)"
      ],
      "metadata": {
        "colab": {
          "base_uri": "https://localhost:8080/",
          "height": 218
        },
        "id": "h2ROmuHK3DTm",
        "outputId": "e6c8ebc7-0a84-491a-dd4c-be5573a38ac9"
      },
      "execution_count": null,
      "outputs": [
        {
          "output_type": "stream",
          "name": "stdout",
          "text": [
            "[10, 20, 30, 40]\n"
          ]
        },
        {
          "output_type": "error",
          "ename": "TypeError",
          "evalue": "'int' object is not iterable",
          "traceback": [
            "\u001b[0;31m---------------------------------------------------------------------------\u001b[0m",
            "\u001b[0;31mTypeError\u001b[0m                                 Traceback (most recent call last)",
            "\u001b[0;32m<ipython-input-7-d81c495d6d91>\u001b[0m in \u001b[0;36m<cell line: 4>\u001b[0;34m()\u001b[0m\n\u001b[1;32m      2\u001b[0m \u001b[0mprint\u001b[0m\u001b[0;34m(\u001b[0m\u001b[0mx\u001b[0m\u001b[0;34m)\u001b[0m\u001b[0;34m\u001b[0m\u001b[0;34m\u001b[0m\u001b[0m\n\u001b[1;32m      3\u001b[0m \u001b[0;34m\u001b[0m\u001b[0m\n\u001b[0;32m----> 4\u001b[0;31m \u001b[0mx\u001b[0m\u001b[0;34m.\u001b[0m\u001b[0mextend\u001b[0m\u001b[0;34m(\u001b[0m\u001b[0;36m80\u001b[0m\u001b[0;34m)\u001b[0m\u001b[0;34m\u001b[0m\u001b[0;34m\u001b[0m\u001b[0m\n\u001b[0m\u001b[1;32m      5\u001b[0m \u001b[0mprint\u001b[0m\u001b[0;34m(\u001b[0m\u001b[0mx\u001b[0m\u001b[0;34m)\u001b[0m\u001b[0;34m\u001b[0m\u001b[0;34m\u001b[0m\u001b[0m\n",
            "\u001b[0;31mTypeError\u001b[0m: 'int' object is not iterable"
          ]
        }
      ]
    },
    {
      "cell_type": "code",
      "source": [
        "x = [10,20,30,40]\n",
        "print(x)\n",
        "\n",
        "x.extend([80])\n",
        "print(x)"
      ],
      "metadata": {
        "colab": {
          "base_uri": "https://localhost:8080/"
        },
        "id": "ceg7qZOP3Hlv",
        "outputId": "de47fb57-f178-432d-e079-177e164749b8"
      },
      "execution_count": null,
      "outputs": [
        {
          "output_type": "stream",
          "name": "stdout",
          "text": [
            "[10, 20, 30, 40]\n",
            "[10, 20, 30, 40, 80]\n"
          ]
        }
      ]
    },
    {
      "cell_type": "code",
      "source": [
        "x = [10,20,30,40]\n",
        "print(x)\n",
        "\n",
        "x.extend([[80,90],[100,120]])\n",
        "print(x)"
      ],
      "metadata": {
        "colab": {
          "base_uri": "https://localhost:8080/"
        },
        "id": "3Jjitwkn3yNV",
        "outputId": "4c2e488b-a2f3-411e-b720-635249533825"
      },
      "execution_count": null,
      "outputs": [
        {
          "output_type": "stream",
          "name": "stdout",
          "text": [
            "[10, 20, 30, 40]\n",
            "[10, 20, 30, 40, [80, 90], [100, 120]]\n"
          ]
        }
      ]
    },
    {
      "cell_type": "markdown",
      "source": [
        "*In case of extend , we also noticed nth dimensin list will be (n-1)th dimension after addition.*"
      ],
      "metadata": {
        "id": "RXqK0RUf6tdV"
      }
    },
    {
      "cell_type": "markdown",
      "source": [
        "### **6.) index() -**"
      ],
      "metadata": {
        "id": "B2NyejJF64Us"
      }
    },
    {
      "cell_type": "code",
      "source": [
        "x = [10,20,30,40,50]\n",
        "print(x)\n",
        "\n",
        "y = x.index(20)\n",
        "print(y)\n",
        "\n",
        "z = x.index(50)\n",
        "print(z)"
      ],
      "metadata": {
        "colab": {
          "base_uri": "https://localhost:8080/"
        },
        "id": "m9Uxn1iJ6-Uw",
        "outputId": "fd662407-4c1e-4224-f7bd-c708353d249a"
      },
      "execution_count": null,
      "outputs": [
        {
          "output_type": "stream",
          "name": "stdout",
          "text": [
            "[10, 20, 30, 40, 50]\n",
            "1\n",
            "4\n"
          ]
        }
      ]
    },
    {
      "cell_type": "markdown",
      "source": [
        "*If in the list , a element is present multiple times , then only the first occurence of that element will be the output.*"
      ],
      "metadata": {
        "id": "cACpBbH37z_b"
      }
    },
    {
      "cell_type": "markdown",
      "source": [
        "### **7.) insert() -**"
      ],
      "metadata": {
        "id": "G9yhe7tN8QeM"
      }
    },
    {
      "cell_type": "code",
      "source": [
        "x = [10,20,30,40]\n",
        "print(x)\n",
        "\n",
        "x.insert(2,50)\n",
        "print(x)"
      ],
      "metadata": {
        "colab": {
          "base_uri": "https://localhost:8080/"
        },
        "id": "RxufFVw28iKs",
        "outputId": "66c4feac-fa65-4345-f189-da80a54eb6c6"
      },
      "execution_count": null,
      "outputs": [
        {
          "output_type": "stream",
          "name": "stdout",
          "text": [
            "[10, 20, 30, 40]\n",
            "[10, 20, 50, 30, 40]\n"
          ]
        }
      ]
    },
    {
      "cell_type": "code",
      "source": [
        "x = [10,20,30,40]\n",
        "print(x)\n",
        "\n",
        "x.insert(0,50)\n",
        "print(x)"
      ],
      "metadata": {
        "colab": {
          "base_uri": "https://localhost:8080/"
        },
        "id": "YJJdQHchF3Cd",
        "outputId": "17f1c333-4fb9-4812-da68-9c60d864ce0f"
      },
      "execution_count": null,
      "outputs": [
        {
          "output_type": "stream",
          "name": "stdout",
          "text": [
            "[10, 20, 30, 40]\n",
            "[50, 10, 20, 30, 40]\n"
          ]
        }
      ]
    },
    {
      "cell_type": "code",
      "source": [
        "x = [10,20,30,40]\n",
        "print(x)\n",
        "\n",
        "x.insert(-1,50)\n",
        "print(x)"
      ],
      "metadata": {
        "colab": {
          "base_uri": "https://localhost:8080/"
        },
        "id": "EoF6fZxkHERp",
        "outputId": "4360ed29-921c-4dec-b98c-6d8af77649e5"
      },
      "execution_count": null,
      "outputs": [
        {
          "output_type": "stream",
          "name": "stdout",
          "text": [
            "[10, 20, 30, 40]\n",
            "[10, 20, 30, 50, 40]\n"
          ]
        }
      ]
    },
    {
      "cell_type": "markdown",
      "source": [
        "### **8.) pop() -**"
      ],
      "metadata": {
        "id": "HogsoEq0FueQ"
      }
    },
    {
      "cell_type": "code",
      "source": [
        "x = [10,20,30,40]\n",
        "print(x)\n",
        "\n",
        "y = x.pop()\n",
        "print(y)"
      ],
      "metadata": {
        "colab": {
          "base_uri": "https://localhost:8080/"
        },
        "id": "u3h1ZcJeFx5s",
        "outputId": "919a81e0-aac4-4000-c1e3-bc4e6ef76a49"
      },
      "execution_count": null,
      "outputs": [
        {
          "output_type": "stream",
          "name": "stdout",
          "text": [
            "[10, 20, 30, 40]\n",
            "40\n"
          ]
        }
      ]
    },
    {
      "cell_type": "markdown",
      "source": [
        "*By default , last element eliminates and returns that element.*\n"
      ],
      "metadata": {
        "id": "upL4xZPWJhZ7"
      }
    },
    {
      "cell_type": "code",
      "source": [
        "x = [10,20,30,40]\n",
        "print(x)\n",
        "\n",
        "y = x.pop(2)\n",
        "print(y)"
      ],
      "metadata": {
        "colab": {
          "base_uri": "https://localhost:8080/"
        },
        "id": "9EQT6-SrJAoQ",
        "outputId": "6f7f33e2-c600-424c-bf5e-36e636c81c72"
      },
      "execution_count": null,
      "outputs": [
        {
          "output_type": "stream",
          "name": "stdout",
          "text": [
            "[10, 20, 30, 40]\n",
            "30\n"
          ]
        }
      ]
    },
    {
      "cell_type": "markdown",
      "source": [
        "*If index is mentioned , corresponding element is removed.*"
      ],
      "metadata": {
        "id": "mL3lmKq2KFTI"
      }
    },
    {
      "cell_type": "markdown",
      "source": [
        "### **9.) remove() -**"
      ],
      "metadata": {
        "id": "UVs1-Ga-KSyN"
      }
    },
    {
      "cell_type": "code",
      "source": [
        "x = [10,20,30,40]\n",
        "print(x)\n",
        "\n",
        "x.remove(20)\n",
        "print(x)"
      ],
      "metadata": {
        "colab": {
          "base_uri": "https://localhost:8080/"
        },
        "id": "LpTMpZ3RKYma",
        "outputId": "f993924e-3fb3-4115-b931-d9a0f87a50ec"
      },
      "execution_count": null,
      "outputs": [
        {
          "output_type": "stream",
          "name": "stdout",
          "text": [
            "[10, 20, 30, 40]\n",
            "[10, 30, 40]\n"
          ]
        }
      ]
    },
    {
      "cell_type": "markdown",
      "source": [
        "*It works upon value , doesn't work upon indexing.*"
      ],
      "metadata": {
        "id": "Rhf7KI88M-V4"
      }
    },
    {
      "cell_type": "markdown",
      "source": [
        "### **10.) reverse() -**"
      ],
      "metadata": {
        "id": "tvowHdWjNFaw"
      }
    },
    {
      "cell_type": "code",
      "source": [
        "x = [10,20,30,40]\n",
        "print(x)\n",
        "\n",
        "x.reverse()\n",
        "print(x)"
      ],
      "metadata": {
        "colab": {
          "base_uri": "https://localhost:8080/"
        },
        "id": "TpqvB4hzNMfk",
        "outputId": "ffb91933-0130-4f25-b3e3-78649dbedaf0"
      },
      "execution_count": null,
      "outputs": [
        {
          "output_type": "stream",
          "name": "stdout",
          "text": [
            "[10, 20, 30, 40]\n",
            "[40, 30, 20, 10]\n"
          ]
        }
      ]
    },
    {
      "cell_type": "markdown",
      "source": [
        "### **11.) sort() -**"
      ],
      "metadata": {
        "id": "NrAuFB_gNrHs"
      }
    },
    {
      "cell_type": "code",
      "source": [
        "x = [100,20,320,4]\n",
        "print(x)\n",
        "\n",
        "x.sort()\n",
        "print(x)"
      ],
      "metadata": {
        "colab": {
          "base_uri": "https://localhost:8080/"
        },
        "id": "HUktoZBxNyBy",
        "outputId": "9c2db5ce-65b2-49cf-a21a-afbc227094be"
      },
      "execution_count": null,
      "outputs": [
        {
          "output_type": "stream",
          "name": "stdout",
          "text": [
            "[100, 20, 320, 4]\n",
            "[4, 20, 100, 320]\n"
          ]
        }
      ]
    },
    {
      "cell_type": "markdown",
      "source": [
        "### **sorted() -**"
      ],
      "metadata": {
        "id": "mUxyb-C_PE-A"
      }
    },
    {
      "cell_type": "markdown",
      "source": [
        "*Not a method of list !!*"
      ],
      "metadata": {
        "id": "y450NG82PO58"
      }
    },
    {
      "cell_type": "code",
      "source": [
        "x = [100,20,320,4]\n",
        "print(x)\n",
        "\n",
        "y = sorted(x)\n",
        "print(y)\n",
        "print(x) #Original list doesn't change"
      ],
      "metadata": {
        "colab": {
          "base_uri": "https://localhost:8080/"
        },
        "id": "rd-3-pyWPLSn",
        "outputId": "38c2b2b7-bd19-4d51-aa3b-9bc6a5016513"
      },
      "execution_count": null,
      "outputs": [
        {
          "output_type": "stream",
          "name": "stdout",
          "text": [
            "[100, 20, 320, 4]\n",
            "[4, 20, 100, 320]\n"
          ]
        }
      ]
    },
    {
      "cell_type": "code",
      "source": [
        "x = [100,20,320,4]\n",
        "print(x)\n",
        "\n",
        "y = sorted(x , reverse = True)\n",
        "print(y)"
      ],
      "metadata": {
        "colab": {
          "base_uri": "https://localhost:8080/"
        },
        "id": "PBiA7FRRQwXE",
        "outputId": "753df049-008d-41ce-d77e-5699f27e9b48"
      },
      "execution_count": null,
      "outputs": [
        {
          "output_type": "stream",
          "name": "stdout",
          "text": [
            "[100, 20, 320, 4]\n",
            "[320, 100, 20, 4]\n"
          ]
        }
      ]
    },
    {
      "cell_type": "markdown",
      "source": [
        "### **reversed() -**"
      ],
      "metadata": {
        "id": "5dqdzYUbPV4Z"
      }
    },
    {
      "cell_type": "code",
      "source": [
        "x = [10,20,30,40]\n",
        "print(x)\n",
        "\n",
        "y = list(reversed(x))\n",
        "print(y)\n",
        "print(x) #Original list doesn't change"
      ],
      "metadata": {
        "colab": {
          "base_uri": "https://localhost:8080/"
        },
        "id": "uwyJxkO4PcL3",
        "outputId": "d1e32024-dbda-411d-be2e-2fc65cf67a9b"
      },
      "execution_count": null,
      "outputs": [
        {
          "output_type": "stream",
          "name": "stdout",
          "text": [
            "[10, 20, 30, 40]\n",
            "[40, 30, 20, 10]\n",
            "[10, 20, 30, 40]\n"
          ]
        }
      ]
    }
  ]
}