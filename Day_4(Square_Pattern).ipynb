{
  "nbformat": 4,
  "nbformat_minor": 0,
  "metadata": {
    "colab": {
      "provenance": [],
      "authorship_tag": "ABX9TyOIDkezJpb2DcmY8U7X/kfc",
      "include_colab_link": true
    },
    "kernelspec": {
      "name": "python3",
      "display_name": "Python 3"
    },
    "language_info": {
      "name": "python"
    }
  },
  "cells": [
    {
      "cell_type": "markdown",
      "metadata": {
        "id": "view-in-github",
        "colab_type": "text"
      },
      "source": [
        "<a href=\"https://colab.research.google.com/github/aniket123de/Basic-Python-Programming/blob/main/Day_4(Square_Pattern).ipynb\" target=\"_parent\"><img src=\"https://colab.research.google.com/assets/colab-badge.svg\" alt=\"Open In Colab\"/></a>"
      ]
    },
    {
      "cell_type": "markdown",
      "source": [
        "# **Square Pattern**"
      ],
      "metadata": {
        "id": "ZU_0e7slHsSD"
      }
    },
    {
      "cell_type": "markdown",
      "source": [
        "### **Type 1**"
      ],
      "metadata": {
        "id": "uSK7l11TkaoZ"
      }
    },
    {
      "cell_type": "code",
      "source": [
        "h = int(input())\n",
        "for row in range(1,h+1):\n",
        "  for col in range(1,h+1):\n",
        "    print(\"*\",end=\" \")\n",
        "  print() #This line works as new line"
      ],
      "metadata": {
        "colab": {
          "base_uri": "https://localhost:8080/"
        },
        "id": "ph1197gbfmJc",
        "outputId": "bf9da448-f1cd-40a2-d6a3-0734ecb694fc"
      },
      "execution_count": null,
      "outputs": [
        {
          "output_type": "stream",
          "name": "stdout",
          "text": [
            "5\n",
            "* * * * * \n",
            "* * * * * \n",
            "* * * * * \n",
            "* * * * * \n",
            "* * * * * \n"
          ]
        }
      ]
    },
    {
      "cell_type": "markdown",
      "source": [
        "### **Type 2**"
      ],
      "metadata": {
        "id": "pilzhreYkjVY"
      }
    },
    {
      "cell_type": "code",
      "source": [
        "h = int(input())\n",
        "for row in range(1,h+1):\n",
        "  for col in range(1,h+1):\n",
        "    print(row,end=\" \")\n",
        "  print()"
      ],
      "metadata": {
        "colab": {
          "base_uri": "https://localhost:8080/"
        },
        "id": "8Y4as40jku35",
        "outputId": "18b93e13-0ef3-4f0c-ac39-82aed0f7b411"
      },
      "execution_count": null,
      "outputs": [
        {
          "output_type": "stream",
          "name": "stdout",
          "text": [
            "4\n",
            "1 1 1 1 \n",
            "2 2 2 2 \n",
            "3 3 3 3 \n",
            "4 4 4 4 \n"
          ]
        }
      ]
    },
    {
      "cell_type": "markdown",
      "source": [
        "### **Type 3**"
      ],
      "metadata": {
        "id": "x47EX8kFk1T-"
      }
    },
    {
      "cell_type": "code",
      "source": [
        "h = int(input())\n",
        "for row in range(1,h+1):\n",
        "  for col in range(1,h+1):\n",
        "    print(col,end=\" \")\n",
        "  print()"
      ],
      "metadata": {
        "colab": {
          "base_uri": "https://localhost:8080/"
        },
        "id": "qVYCbSguk6SX",
        "outputId": "537cd78b-d49f-4f63-9980-8329ce940342"
      },
      "execution_count": null,
      "outputs": [
        {
          "output_type": "stream",
          "name": "stdout",
          "text": [
            "4\n",
            "1 2 3 4 \n",
            "1 2 3 4 \n",
            "1 2 3 4 \n",
            "1 2 3 4 \n"
          ]
        }
      ]
    },
    {
      "cell_type": "markdown",
      "source": [
        "### **Type 4**"
      ],
      "metadata": {
        "id": "JKO97gLZk616"
      }
    },
    {
      "cell_type": "code",
      "source": [
        "h = int(input())\n",
        "for row in range(1,h+1):\n",
        "  for col in range(1,h+1):\n",
        "    print(chr(col+64),end=\" \")\n",
        "  print()"
      ],
      "metadata": {
        "colab": {
          "base_uri": "https://localhost:8080/"
        },
        "id": "E6eS3vNCk_s2",
        "outputId": "c492a06d-33c2-47d8-ac03-fff72c963a27"
      },
      "execution_count": null,
      "outputs": [
        {
          "output_type": "stream",
          "name": "stdout",
          "text": [
            "4\n",
            "A B C D \n",
            "A B C D \n",
            "A B C D \n",
            "A B C D \n"
          ]
        }
      ]
    },
    {
      "cell_type": "markdown",
      "source": [
        "### **Type 5**"
      ],
      "metadata": {
        "id": "0fa0FyHwlAJe"
      }
    },
    {
      "cell_type": "code",
      "source": [
        "h = int(input())\n",
        "for row in range(1,h+1):\n",
        "  for col in range(1,h+1):\n",
        "    print(chr(col+64),end=\" \")\n",
        "  print()"
      ],
      "metadata": {
        "colab": {
          "base_uri": "https://localhost:8080/"
        },
        "id": "CV1hFpYTlCI-",
        "outputId": "20d5b975-9cc6-4e2a-96f4-d3dcf158b09f"
      },
      "execution_count": null,
      "outputs": [
        {
          "output_type": "stream",
          "name": "stdout",
          "text": [
            "4\n",
            "A B C D \n",
            "A B C D \n",
            "A B C D \n",
            "A B C D \n"
          ]
        }
      ]
    },
    {
      "cell_type": "markdown",
      "source": [
        "### **Type 6**"
      ],
      "metadata": {
        "id": "wJOSINcylCcz"
      }
    },
    {
      "cell_type": "code",
      "source": [
        "h = int(input())\n",
        "for row in range(h,0,-1):\n",
        "  for col in range(1,h+1):\n",
        "    print(row,end=\" \")\n",
        "  print()"
      ],
      "metadata": {
        "colab": {
          "base_uri": "https://localhost:8080/"
        },
        "id": "3xyK18lWlEki",
        "outputId": "eee3a641-3ad1-40f1-cc68-e59a408f15e4"
      },
      "execution_count": null,
      "outputs": [
        {
          "output_type": "stream",
          "name": "stdout",
          "text": [
            "4\n",
            "4 4 4 4 \n",
            "3 3 3 3 \n",
            "2 2 2 2 \n",
            "1 1 1 1 \n"
          ]
        }
      ]
    },
    {
      "cell_type": "markdown",
      "source": [
        "### **Type 7**"
      ],
      "metadata": {
        "id": "xcSBGK5IlE3C"
      }
    },
    {
      "cell_type": "code",
      "source": [
        "h = int(input())\n",
        "for row in range(1,h+1):\n",
        "  for col in range(h,0,-1):\n",
        "    print(col,end=\" \")\n",
        "  print()"
      ],
      "metadata": {
        "colab": {
          "base_uri": "https://localhost:8080/"
        },
        "id": "X1EXinvGlGgP",
        "outputId": "47aa665f-9f68-45b6-896e-43e72f5860bb"
      },
      "execution_count": null,
      "outputs": [
        {
          "output_type": "stream",
          "name": "stdout",
          "text": [
            "4\n",
            "4 3 2 1 \n",
            "4 3 2 1 \n",
            "4 3 2 1 \n",
            "4 3 2 1 \n"
          ]
        }
      ]
    },
    {
      "cell_type": "markdown",
      "source": [
        "### **Type 8**"
      ],
      "metadata": {
        "id": "4sn0PEqElG0x"
      }
    },
    {
      "cell_type": "code",
      "source": [
        "h = int(input())\n",
        "for row in range(h,0,-1):\n",
        "  for col in range(1,h+1):\n",
        "    print(chr(row+64),end=\" \")\n",
        "  print()"
      ],
      "metadata": {
        "colab": {
          "base_uri": "https://localhost:8080/"
        },
        "id": "bSZCWqYXlITG",
        "outputId": "27b3c5b5-086b-48e1-dad3-a636ee3c4a36"
      },
      "execution_count": null,
      "outputs": [
        {
          "output_type": "stream",
          "name": "stdout",
          "text": [
            "4\n",
            "D D D D \n",
            "C C C C \n",
            "B B B B \n",
            "A A A A \n"
          ]
        }
      ]
    },
    {
      "cell_type": "markdown",
      "source": [
        "### **Type 9**"
      ],
      "metadata": {
        "id": "L-c6wPerlIjR"
      }
    },
    {
      "cell_type": "code",
      "source": [
        "h = int(input())\n",
        "for row in range(h,0,-1):\n",
        "  for col in range(h,0,-1):\n",
        "    print(chr(col+64),end=\" \")\n",
        "  print()"
      ],
      "metadata": {
        "colab": {
          "base_uri": "https://localhost:8080/"
        },
        "id": "nAUoFNfflKMg",
        "outputId": "5436ba36-4281-4db8-daee-bd55b9e6f262"
      },
      "execution_count": null,
      "outputs": [
        {
          "output_type": "stream",
          "name": "stdout",
          "text": [
            "4\n",
            "D C B A \n",
            "D C B A \n",
            "D C B A \n",
            "D C B A \n"
          ]
        }
      ]
    }
  ]
}