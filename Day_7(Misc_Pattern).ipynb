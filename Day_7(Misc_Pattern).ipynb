{
  "cells": [
    {
      "cell_type": "markdown",
      "metadata": {
        "id": "view-in-github",
        "colab_type": "text"
      },
      "source": [
        "<a href=\"https://colab.research.google.com/github/aniket123de/Basic-Python-Programming/blob/main/Day_7(Misc_Pattern).ipynb\" target=\"_parent\"><img src=\"https://colab.research.google.com/assets/colab-badge.svg\" alt=\"Open In Colab\"/></a>"
      ]
    },
    {
      "cell_type": "markdown",
      "metadata": {
        "id": "oaexs1zsl_MV"
      },
      "source": [
        "# **Special Type**"
      ]
    },
    {
      "cell_type": "markdown",
      "metadata": {
        "id": "9_dEaSC0nZRN"
      },
      "source": [
        "## **Type - 1**"
      ]
    },
    {
      "cell_type": "code",
      "execution_count": null,
      "metadata": {
        "colab": {
          "base_uri": "https://localhost:8080/"
        },
        "id": "_-1NrXMtmT3_",
        "outputId": "9ec93362-cc16-4b8a-e153-c3860dd931f2"
      },
      "outputs": [
        {
          "name": "stdout",
          "output_type": "stream",
          "text": [
            "5\n",
            "1 \n",
            "2 3 \n",
            "4 5 6 \n",
            "7 8 9 10 \n",
            "11 12 13 14 15 \n"
          ]
        }
      ],
      "source": [
        "h=int(input())\n",
        "count=1\n",
        "for row in range(1,h+1):\n",
        "  for col in range(1,row+1):\n",
        "    print(count,end=\" \")\n",
        "    count+=1\n",
        "  print()"
      ]
    },
    {
      "cell_type": "markdown",
      "metadata": {
        "id": "AfHWNvgend7X"
      },
      "source": [
        "## **Type - 2**"
      ]
    },
    {
      "cell_type": "code",
      "execution_count": null,
      "metadata": {
        "colab": {
          "base_uri": "https://localhost:8080/"
        },
        "id": "8le6gjc0niD4",
        "outputId": "ba2661d7-9b5f-430c-8c35-b501ba97e87f"
      },
      "outputs": [
        {
          "name": "stdout",
          "output_type": "stream",
          "text": [
            "6\n",
            "21\n",
            "2\n",
            "\n",
            "01 \n",
            "02 03 \n",
            "04 05 06 \n",
            "07 08 09 10 \n",
            "11 12 13 14 15 \n",
            "16 17 18 19 20 21 \n"
          ]
        }
      ],
      "source": [
        "h=int(input()) #Let h = 6\n",
        "lastNum = int(h*(h+1)/2)  #lastNum = 21\n",
        "print(lastNum) # print 21\n",
        "digits=len(str(lastNum)) #digits = 2\n",
        "print(digits) # print 2\n",
        "print()\n",
        "count=1\n",
        "for row in range(1,h+1):\n",
        "  for col in range(1,row+1):\n",
        "    print(str(count).rjust(digits,'0'),end=\" \") #General Syntax - string.rjust(digits,'character')\n",
        "    count+=1\n",
        "  print()"
      ]
    },
    {
      "cell_type": "markdown",
      "metadata": {
        "id": "7PxLXi1lvJMF"
      },
      "source": [
        "## **Type - 3**"
      ]
    },
    {
      "cell_type": "code",
      "execution_count": null,
      "metadata": {
        "colab": {
          "base_uri": "https://localhost:8080/"
        },
        "id": "LnfFyJcdvqpI",
        "outputId": "17bc25f5-0518-4fc8-8237-e34555e1366a"
      },
      "outputs": [
        {
          "name": "stdout",
          "output_type": "stream",
          "text": [
            "5\n",
            "1 \n",
            "1 0 \n",
            "1 0 1 \n",
            "1 0 1 0 \n",
            "1 0 1 0 1 \n"
          ]
        }
      ],
      "source": [
        "h=int(input())\n",
        "count=1\n",
        "for row in range(1,h+1):\n",
        "  for col in range(1,row+1):\n",
        "    if(col%2==0):\n",
        "      print('0',end=\" \")\n",
        "    else:\n",
        "      print('1',end=\" \")\n",
        "  print()"
      ]
    },
    {
      "cell_type": "markdown",
      "metadata": {
        "id": "st6tO72xw78-"
      },
      "source": [
        "## **Type - 4**"
      ]
    },
    {
      "cell_type": "code",
      "execution_count": null,
      "metadata": {
        "id": "qczJ0ZaTw8Zz"
      },
      "outputs": [],
      "source": [
        "h=int(input())\n",
        "count=1\n",
        "for row in range(1,h+1):\n",
        "  for col in range(1,row+1):\n",
        "    if(row%2==0):\n",
        "      print('0',end=\" \")\n",
        "    else:\n",
        "      print('1',end=\" \")\n",
        "  print()"
      ]
    },
    {
      "cell_type": "markdown",
      "metadata": {
        "id": "UKCtN-i4xKGv"
      },
      "source": [
        "## **Type - 5**"
      ]
    },
    {
      "cell_type": "code",
      "execution_count": null,
      "metadata": {
        "colab": {
          "base_uri": "https://localhost:8080/"
        },
        "id": "qi4hHZ1pxMz4",
        "outputId": "c7024ff3-395a-4eb2-b70e-0e0fb49fb277"
      },
      "outputs": [
        {
          "name": "stdout",
          "output_type": "stream",
          "text": [
            "7\n",
            "            * \n",
            "          * * * \n",
            "        * * * * * \n",
            "      * * * * * * * \n",
            "    * * * * * * * * * \n",
            "  * * * * * * * * * * * \n",
            "* * * * * * * * * * * * * \n"
          ]
        }
      ],
      "source": [
        "h=int(input())\n",
        "for row in range(1,h+1):\n",
        "  for space in range(1,h-row+1):\n",
        "    print(\" \",end=\" \")\n",
        "  for col in range(1,2*row):\n",
        "    print(\"*\",end=\" \")\n",
        "  print()"
      ]
    },
    {
      "cell_type": "markdown",
      "metadata": {
        "id": "2mP_GMO6xNJp"
      },
      "source": [
        "##**Type - 6**"
      ]
    },
    {
      "cell_type": "code",
      "execution_count": null,
      "metadata": {
        "colab": {
          "base_uri": "https://localhost:8080/"
        },
        "id": "dEqAYMSHxQqF",
        "outputId": "41b098bd-bd91-44fe-f0c5-c3767679c818"
      },
      "outputs": [
        {
          "name": "stdout",
          "output_type": "stream",
          "text": [
            "5\n",
            "* * * * * * * * * \n",
            "  * * * * * * * \n",
            "    * * * * * \n",
            "      * * * \n",
            "        * \n"
          ]
        }
      ],
      "source": [
        "h=int(input())\n",
        "for row in range(h,0,-1):\n",
        "  for space in range(1,h-row+1):\n",
        "    print(\" \",end=\" \")\n",
        "  for col in range(1,2*row):\n",
        "    print(\"*\",end=\" \")\n",
        "  print()"
      ]
    },
    {
      "cell_type": "markdown",
      "metadata": {
        "id": "Ft4vJVtF2S2u"
      },
      "source": [
        "## **Type - 7**"
      ]
    },
    {
      "cell_type": "code",
      "execution_count": null,
      "metadata": {
        "colab": {
          "base_uri": "https://localhost:8080/"
        },
        "id": "Tq7wGYUf2Xe6",
        "outputId": "4f80146e-878d-4177-da69-ce63c631aff1"
      },
      "outputs": [
        {
          "name": "stdout",
          "output_type": "stream",
          "text": [
            "5\n",
            "        * \n",
            "      * * * \n",
            "    * * * * * \n",
            "  * * * * * * * \n",
            "* * * * * * * * * \n",
            "  * * * * * * * \n",
            "    * * * * * \n",
            "      * * * \n",
            "        * \n"
          ]
        }
      ],
      "source": [
        "h=int(input())\n",
        "for row in range(1,h+1):\n",
        "  for space in range(1,h-row+1):\n",
        "    print(\" \",end=\" \")\n",
        "  for col in range(1,2*row):\n",
        "    print(\"*\",end=\" \")\n",
        "  print()\n",
        "for row in range(h-1,0,-1):\n",
        "  for space in range(1,h-row+1):\n",
        "    print(\" \",end=\" \")\n",
        "  for col in range(1,2*row):\n",
        "    print(\"*\",end=\" \")\n",
        "  print()"
      ]
    },
    {
      "cell_type": "markdown",
      "metadata": {
        "id": "d4rkhw0F3VVN"
      },
      "source": [
        "## **Type - 8**"
      ]
    },
    {
      "cell_type": "code",
      "execution_count": null,
      "metadata": {
        "colab": {
          "base_uri": "https://localhost:8080/"
        },
        "id": "aZUa5PYN3YXB",
        "outputId": "0e4abea7-5584-4239-c3d0-28aa5ff53dfd"
      },
      "outputs": [
        {
          "name": "stdout",
          "output_type": "stream",
          "text": [
            "7\n",
            "* \n",
            "* * * \n",
            "* * * * * \n",
            "* * * * * * * \n",
            "* * * * * * * * * \n",
            "* * * * * * * * * * * \n",
            "* * * * * * * * * * * * * \n",
            "* * * * * * * * * * * \n",
            "* * * * * * * * * \n",
            "* * * * * * * \n",
            "* * * * * \n",
            "* * * \n",
            "* \n"
          ]
        }
      ],
      "source": [
        "h=int(input())\n",
        "for row in range(1,h+1):\n",
        "  for col in range(1,2*row):\n",
        "    print(\"*\",end=\" \")\n",
        "  print()\n",
        "for row in range(h-1,0,-1):\n",
        "  for col in range(1,2*row):\n",
        "    print(\"*\",end=\" \")\n",
        "  print()"
      ]
    },
    {
      "cell_type": "markdown",
      "metadata": {
        "id": "WCDScmca3ibt"
      },
      "source": [
        "## **Type - 9**"
      ]
    },
    {
      "cell_type": "code",
      "execution_count": null,
      "metadata": {
        "colab": {
          "base_uri": "https://localhost:8080/"
        },
        "id": "qQr_l_wN3kuG",
        "outputId": "94080469-c4ec-462c-df30-f6e45d936069"
      },
      "outputs": [
        {
          "output_type": "stream",
          "name": "stdout",
          "text": [
            "4\n",
            "        * \n",
            "      *   * \n",
            "    *       * \n",
            "  *           * \n"
          ]
        }
      ],
      "source": [
        "h=int(input())\n",
        "for row in range(1,h+1):\n",
        "  for space in range(1,h-row+2):\n",
        "    print(\" \",end=' ')\n",
        "  print(\"*\",end=' ')\n",
        "  for space in range(1,(2*row-2)):\n",
        "    print(\" \",end=' ')\n",
        "  if (row!=1):\n",
        "    print(\"*\",end=' ')\n",
        "  print()"
      ]
    }
  ],
  "metadata": {
    "colab": {
      "provenance": [],
      "toc_visible": true,
      "authorship_tag": "ABX9TyOzCVBPsVcaVMFSlrfejYdh",
      "include_colab_link": true
    },
    "kernelspec": {
      "display_name": "Python 3",
      "name": "python3"
    },
    "language_info": {
      "name": "python"
    }
  },
  "nbformat": 4,
  "nbformat_minor": 0
}