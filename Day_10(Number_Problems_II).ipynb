{
  "nbformat": 4,
  "nbformat_minor": 0,
  "metadata": {
    "colab": {
      "provenance": [],
      "toc_visible": true,
      "authorship_tag": "ABX9TyPvQPgjf7HTGDRtyImR1A4o",
      "include_colab_link": true
    },
    "kernelspec": {
      "name": "python3",
      "display_name": "Python 3"
    },
    "language_info": {
      "name": "python"
    }
  },
  "cells": [
    {
      "cell_type": "markdown",
      "metadata": {
        "id": "view-in-github",
        "colab_type": "text"
      },
      "source": [
        "<a href=\"https://colab.research.google.com/github/aniket123de/Basic-Python-Programming/blob/main/Day_10(Number_Problems_II).ipynb\" target=\"_parent\"><img src=\"https://colab.research.google.com/assets/colab-badge.svg\" alt=\"Open In Colab\"/></a>"
      ]
    },
    {
      "cell_type": "markdown",
      "source": [
        "## **Armstrong Number**"
      ],
      "metadata": {
        "id": "EH1rTpcpu3BO"
      }
    },
    {
      "cell_type": "markdown",
      "source": [
        "*It's a number that equals the sum of its digits, each raised to a power.*"
      ],
      "metadata": {
        "id": "9kLOuR4i3IFV"
      }
    },
    {
      "cell_type": "code",
      "execution_count": null,
      "metadata": {
        "id": "uUdvoC2ytzcI",
        "colab": {
          "base_uri": "https://localhost:8080/"
        },
        "outputId": "d6b7eeda-c912-4ad5-d762-016e6e9c72da"
      },
      "outputs": [
        {
          "output_type": "stream",
          "name": "stdout",
          "text": [
            "Enter a number: 153\n",
            "153 is an Armstrong number\n"
          ]
        }
      ],
      "source": [
        "def is_armstrong_number(number):\n",
        "  order = len(str(number))\n",
        "  sum = 0\n",
        "  temp = number\n",
        "  while temp > 0:\n",
        "    digit = temp % 10\n",
        "    sum += digit ** order\n",
        "    temp //= 10\n",
        "  return number == sum\n",
        "\n",
        "\n",
        "number = int(input(\"Enter a number: \"))\n",
        "if is_armstrong_number(number):\n",
        "  print(number, \"is an Armstrong number\")\n",
        "else:\n",
        "  print(number, \"is not an Armstrong number\")"
      ]
    },
    {
      "cell_type": "markdown",
      "source": [
        "## **Strong Number / Krishnamurty Number**"
      ],
      "metadata": {
        "id": "Qydy7Mr_3MFT"
      }
    },
    {
      "cell_type": "markdown",
      "source": [
        "*A strong number is a positive integer whose sum of factorials of its digits equals the number itself , e.g. - 1,2,145,40585*"
      ],
      "metadata": {
        "id": "UCJLxbHV3Qer"
      }
    },
    {
      "cell_type": "code",
      "source": [
        "import math\n",
        "\n",
        "def is_strong_number(number):\n",
        "  sum = 0\n",
        "  temp = number\n",
        "  while temp > 0:\n",
        "    digit = temp % 10\n",
        "    sum += math.factorial(digit)\n",
        "    temp //= 10\n",
        "  return number == sum\n",
        "\n",
        "number = int(input(\"Enter a number: \"))\n",
        "if is_strong_number(number):\n",
        "  print(number, \"is a strong number\")\n",
        "else:\n",
        "  print(number, \"is not a strong number\")"
      ],
      "metadata": {
        "id": "AUcvsMTt3aBQ",
        "colab": {
          "base_uri": "https://localhost:8080/"
        },
        "outputId": "a7b63f42-9c3e-4555-ad40-4783e743ba26"
      },
      "execution_count": null,
      "outputs": [
        {
          "output_type": "stream",
          "name": "stdout",
          "text": [
            "Enter a number: 40585\n",
            "40585 is a strong number\n"
          ]
        }
      ]
    },
    {
      "cell_type": "markdown",
      "source": [
        "## **Palindrome Number**"
      ],
      "metadata": {
        "id": "UOwOKRFO3_gw"
      }
    },
    {
      "cell_type": "markdown",
      "source": [
        "*is a number (such as 16461) that remains the same when its digits are reversed*"
      ],
      "metadata": {
        "id": "bTvqnAlO4CLY"
      }
    },
    {
      "cell_type": "code",
      "source": [
        "def palindrome(number):\n",
        "  original_number = number\n",
        "  rev = 0\n",
        "  while number > 0:\n",
        "    remainder = number % 10\n",
        "    rev = rev * 10 + remainder\n",
        "    number //= 10\n",
        "  return original_number == rev\n",
        "\n",
        "number = int(input(\"Enter a number: \"))\n",
        "if palindrome(number):\n",
        "  print(number, \"is a palindrome number\")\n",
        "else:\n",
        "  print(number, \"is not a palindrome number\")"
      ],
      "metadata": {
        "id": "SLYLhDgB4F0X",
        "colab": {
          "base_uri": "https://localhost:8080/"
        },
        "outputId": "05eca496-52d0-4a61-dab5-a70becb7b3cd"
      },
      "execution_count": null,
      "outputs": [
        {
          "output_type": "stream",
          "name": "stdout",
          "text": [
            "Enter a number: 191\n",
            "191 is a palindrome number\n"
          ]
        }
      ]
    },
    {
      "cell_type": "markdown",
      "source": [
        "## **Balanced Prime**"
      ],
      "metadata": {
        "id": "447LpUhY4GV4"
      }
    },
    {
      "cell_type": "markdown",
      "source": [
        "*a balanced prime is a prime number with equal-sized prime gaps above and below it, so that it is equal to the arithmetic mean of the nearest primes above and below.*\n",
        "*eg - 53 is a balanced prime (47 --- 53 --- 59)*"
      ],
      "metadata": {
        "id": "R4LQXq-94J_3"
      }
    },
    {
      "cell_type": "code",
      "source": [
        "def is_prime(n):\n",
        "  for i in range(2,n//2+1):\n",
        "   if n%i == 0:\n",
        "     isPrime = False\n",
        "     break\n",
        "   else:\n",
        "     isPrime = True\n",
        "  return isPrime\n",
        "\n",
        "def is_balanced_prime(n):\n",
        "  if not is_prime(n):\n",
        "    return False\n",
        "  lower_prime = n - 1\n",
        "  upper_prime = n + 1\n",
        "  while not is_prime(lower_prime):\n",
        "    lower_prime -= 1\n",
        "  while not is_prime(upper_prime):\n",
        "    upper_prime += 1\n",
        "  return n == (lower_prime + upper_prime) // 2\n",
        "\n",
        "number = int(input(\"Enter a number: \"))\n",
        "if is_balanced_prime(number):\n",
        "  print(number, \"is a balanced prime\")\n",
        "else:\n",
        "  print(number, \"is not a balanced prime\")"
      ],
      "metadata": {
        "id": "pgrP0KvT4af2",
        "colab": {
          "base_uri": "https://localhost:8080/"
        },
        "outputId": "53a80662-3747-4b1c-93d8-f8acd8ea6293"
      },
      "execution_count": null,
      "outputs": [
        {
          "output_type": "stream",
          "name": "stdout",
          "text": [
            "Enter a number: 53\n",
            "53 is a balanced prime\n"
          ]
        }
      ]
    },
    {
      "cell_type": "markdown",
      "source": [
        "## **Circular Prime Number**"
      ],
      "metadata": {
        "id": "uTCONurm4bd_"
      }
    },
    {
      "cell_type": "markdown",
      "source": [
        "*A prime number is said to be a circular prime if after any cyclic permutations of the digits, it remains a prime.e.g.- 197,917,719*"
      ],
      "metadata": {
        "id": "zW9XobpF9ycj"
      }
    },
    {
      "cell_type": "code",
      "source": [
        "def is_prime(n):\n",
        "  for i in range(2,n//2+1):\n",
        "   if n%i == 0:\n",
        "     isPrime = False\n",
        "     break\n",
        "   else:\n",
        "     isPrime = True\n",
        "  return isPrime\n",
        "\n",
        "def is_circular_prime(n):\n",
        "  \"\"\"Checks if a number is a circular prime.\"\"\"\n",
        "  num_str = str(n)\n",
        "  for i in range(len(num_str)):\n",
        "    rotated_num = int(num_str[i:] + num_str[:i])\n",
        "    if not is_prime(rotated_num):\n",
        "      return False\n",
        "  return True\n",
        "\n",
        "number = int(input(\"Enter a number: \"))\n",
        "if is_circular_prime(number):\n",
        "  print(number, \"is a circular prime\")\n",
        "else:\n",
        "  print(number, \"is not a circular prime\")"
      ],
      "metadata": {
        "id": "FxAsoACj-Rlx",
        "colab": {
          "base_uri": "https://localhost:8080/"
        },
        "outputId": "23920742-3ed2-4abc-9a5e-07531f299e4f"
      },
      "execution_count": null,
      "outputs": [
        {
          "output_type": "stream",
          "name": "stdout",
          "text": [
            "Enter a number: 197\n",
            "197 is a circular prime\n"
          ]
        }
      ]
    },
    {
      "cell_type": "markdown",
      "source": [],
      "metadata": {
        "id": "3EV1Yo6Cldea"
      }
    },
    {
      "cell_type": "markdown",
      "source": [
        "## **Cuban Prime Number**"
      ],
      "metadata": {
        "id": "J3lYlOjWCsc3"
      }
    },
    {
      "cell_type": "markdown",
      "source": [
        "*A prime number which can be represented as - 3n^2 + 3n + 1 (n = 1,2,3...).eg - 7,19,37,61 etc.*"
      ],
      "metadata": {
        "id": "CRrnDuqSDECs"
      }
    },
    {
      "cell_type": "code",
      "source": [
        "def is_Prime(num):\n",
        "  for i in range(2,num//2+1):\n",
        "   if num%i == 0:\n",
        "     is_Prime = False\n",
        "     break\n",
        "   else:\n",
        "     is_Prime = True\n",
        "  return is_Prime\n",
        "\n",
        "def check_cuban_prime(number):\n",
        "    n = 1\n",
        "    while True:\n",
        "        prime_candidate = 3 * n**2 + 3 * n + 1\n",
        "        if prime_candidate == number:\n",
        "            if is_Prime(number):\n",
        "                return True\n",
        "            else:\n",
        "                return False\n",
        "        elif prime_candidate > number:\n",
        "            return False\n",
        "        n += 1\n",
        "\n",
        "number = int(input(\"Enter a number to check: \"))\n",
        "if check_cuban_prime(number):\n",
        "    print(f\"The number {number} is a Cuban prime number.\")\n",
        "else:\n",
        "    print(f\"The number {number} is not a Cuban prime number.\")\n"
      ],
      "metadata": {
        "id": "NMOkzRbMDjUy",
        "colab": {
          "base_uri": "https://localhost:8080/"
        },
        "outputId": "862b066c-c6b6-4e51-8836-7376bde83b48"
      },
      "execution_count": null,
      "outputs": [
        {
          "output_type": "stream",
          "name": "stdout",
          "text": [
            "Enter a number to check: 61\n",
            "The number 61 is a Cuban prime number.\n"
          ]
        }
      ]
    },
    {
      "cell_type": "markdown",
      "source": [
        "## **Emirp Prime Number**"
      ],
      "metadata": {
        "id": "Am6VUboBFlYY"
      }
    },
    {
      "cell_type": "markdown",
      "source": [
        "*An emirp (\"prime\" spelled backwards) is a prime number whose (base 10) reversal is also prime, but which is not a palindromic prime.eg -  13, 17, 31, 37*"
      ],
      "metadata": {
        "id": "BcBB6_m5FqG3"
      }
    },
    {
      "cell_type": "code",
      "source": [
        "def is_prime(num):\n",
        "  for i in range(2,num//2+1):\n",
        "   if num%i == 0:\n",
        "     is_prime = False\n",
        "     break\n",
        "   else:\n",
        "     is_prime = True\n",
        "  return is_prime\n",
        "\n",
        "def is_emirp(num):\n",
        "    if not is_prime(num):\n",
        "        return False\n",
        "    reversed_num = int(str(num)[::-1])\n",
        "    if num != reversed_num and is_prime(reversed_num):\n",
        "        return True\n",
        "    return False\n",
        "\n",
        "number = int(input(\"Enter a number to check if it's an emirp: \"))\n",
        "if is_emirp(number):\n",
        "    print(f\"The number {number} is an emirp.\")\n",
        "else:\n",
        "    print(f\"The number {number} is not an emirp.\")"
      ],
      "metadata": {
        "id": "LZ-VbPhPFv4T",
        "colab": {
          "base_uri": "https://localhost:8080/"
        },
        "outputId": "321ffdc8-ccc6-4d87-dcd5-c58ba186bf05"
      },
      "execution_count": null,
      "outputs": [
        {
          "output_type": "stream",
          "name": "stdout",
          "text": [
            "Enter a number to check if it's an emirp: 37\n",
            "The number 37 is an emirp.\n"
          ]
        }
      ]
    },
    {
      "cell_type": "markdown",
      "source": [],
      "metadata": {
        "id": "nyEgN7XrFwUx"
      }
    }
  ]
}