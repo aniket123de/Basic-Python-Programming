{
  "nbformat": 4,
  "nbformat_minor": 0,
  "metadata": {
    "colab": {
      "provenance": [],
      "toc_visible": true,
      "authorship_tag": "ABX9TyP2W0JLig8A4hqzt2yj29pK",
      "include_colab_link": true
    },
    "kernelspec": {
      "name": "python3",
      "display_name": "Python 3"
    },
    "language_info": {
      "name": "python"
    }
  },
  "cells": [
    {
      "cell_type": "markdown",
      "metadata": {
        "id": "view-in-github",
        "colab_type": "text"
      },
      "source": [
        "<a href=\"https://colab.research.google.com/github/aniket123de/Basic-Python-Programming/blob/main/Day_2(Conditional_Statements).ipynb\" target=\"_parent\"><img src=\"https://colab.research.google.com/assets/colab-badge.svg\" alt=\"Open In Colab\"/></a>"
      ]
    },
    {
      "cell_type": "markdown",
      "source": [
        "Basic if\n",
        "basic if-else\n",
        "nested if\n",
        "ladder if-else"
      ],
      "metadata": {
        "id": "gUpSD5OnZ6y-"
      }
    },
    {
      "cell_type": "markdown",
      "source": [
        "### **basic if:**"
      ],
      "metadata": {
        "id": "NtDsH9_QaQtZ"
      }
    },
    {
      "cell_type": "markdown",
      "source": [
        "if condition:\n",
        "\n",
        "---\n",
        "\n",
        "\n",
        "   Statement1\n",
        "\n",
        "---\n",
        "\n",
        "\n",
        "   Statement2"
      ],
      "metadata": {
        "id": "ARA2xVOma8dT"
      }
    },
    {
      "cell_type": "code",
      "source": [
        "if 5>3:\n",
        "  print(\"Yes\")\n",
        "  print(\"True\")"
      ],
      "metadata": {
        "colab": {
          "base_uri": "https://localhost:8080/"
        },
        "id": "cFt52i_TUrPc",
        "outputId": "f76832e5-5945-4ca4-e757-821838921078"
      },
      "execution_count": null,
      "outputs": [
        {
          "output_type": "stream",
          "name": "stdout",
          "text": [
            "Yes\n",
            "True\n"
          ]
        }
      ]
    },
    {
      "cell_type": "markdown",
      "source": [
        "### **basic if-else :**"
      ],
      "metadata": {
        "id": "BE-v24kybN3B"
      }
    },
    {
      "cell_type": "markdown",
      "source": [
        "General Syntax -\n",
        "if condition:\n",
        "   Statement1\n",
        "else:\n",
        "   Statement2"
      ],
      "metadata": {
        "id": "RaLSkw99bk-j"
      }
    },
    {
      "cell_type": "code",
      "source": [
        "marks = 89\n",
        "if marks>40:\n",
        "  print(\"Pass\")\n",
        "else:\n",
        "  print(\"Fail\")"
      ],
      "metadata": {
        "colab": {
          "base_uri": "https://localhost:8080/"
        },
        "id": "jXAomGWwbT_a",
        "outputId": "43b24eb2-4bc5-4c68-c9ee-b5abf3a46578"
      },
      "execution_count": null,
      "outputs": [
        {
          "output_type": "stream",
          "name": "stdout",
          "text": [
            "Pass\n"
          ]
        }
      ]
    },
    {
      "cell_type": "markdown",
      "source": [
        "### **Nested if :** If one if-else statement lies between another if-else , it is termed as Nested if."
      ],
      "metadata": {
        "id": "ZcCBzHF_cBwb"
      }
    },
    {
      "cell_type": "markdown",
      "source": [
        "General Syntax -\n",
        "\n",
        "\n",
        "```\n",
        "if condition:\n",
        "   if condition:\n",
        "      statement1\n",
        "    else:\n",
        "      statement2\n",
        "else:\n",
        "    statement3\n",
        "```\n",
        "\n"
      ],
      "metadata": {
        "id": "TT5gg2x0cETz"
      }
    },
    {
      "cell_type": "markdown",
      "source": [
        "Take voter age as input , and check he/she is minor/adult/senior citizen."
      ],
      "metadata": {
        "id": "_dEOPpbSc2Pf"
      }
    },
    {
      "cell_type": "code",
      "source": [
        "x=int(input())\n",
        "if x<60:\n",
        "   if x<18:\n",
        "      print(\"Minor\")\n",
        "   else:\n",
        "       print(\"Adult\")\n",
        "else:\n",
        "    print(\"Senior Citizen\")\n"
      ],
      "metadata": {
        "colab": {
          "base_uri": "https://localhost:8080/"
        },
        "id": "ZVreO18qbzwg",
        "outputId": "1f9761cd-4174-4a4b-ed7e-1424e8baa7b5"
      },
      "execution_count": null,
      "outputs": [
        {
          "output_type": "stream",
          "name": "stdout",
          "text": [
            "14\n",
            "Minor\n"
          ]
        }
      ]
    },
    {
      "cell_type": "markdown",
      "source": [
        "### **Ladder if-else:**"
      ],
      "metadata": {
        "id": "JiAzVqlchE5f"
      }
    },
    {
      "cell_type": "code",
      "source": [
        "General syntax -\n",
        "if condition:\n",
        "   Statement1\n",
        "elif condition:\n",
        "   Statement2\n",
        "elif condition:\n",
        "   Statement3\n",
        "   .\n",
        "   .\n",
        "else:\n",
        "   Statement"
      ],
      "metadata": {
        "id": "aE2bRUce-0fb"
      },
      "execution_count": null,
      "outputs": []
    },
    {
      "cell_type": "markdown",
      "source": [
        "Take voter age as input , and check he/she is minor/adult/senior citizen."
      ],
      "metadata": {
        "id": "aeDBLFbN_EhV"
      }
    },
    {
      "cell_type": "code",
      "source": [
        "x=int(input())\n",
        "if x<18:\n",
        "  print(\"Minor\")\n",
        "elif(x<60):\n",
        "  print(\"Adult\")\n",
        "else:\n",
        "  print(\"Senior Citizen\")\n"
      ],
      "metadata": {
        "colab": {
          "base_uri": "https://localhost:8080/"
        },
        "id": "FLRam3BuhLM-",
        "outputId": "eeeff533-0652-4046-bd08-7e4f27d1f71c"
      },
      "execution_count": null,
      "outputs": [
        {
          "output_type": "stream",
          "name": "stdout",
          "text": [
            "17\n",
            "Minor\n"
          ]
        }
      ]
    },
    {
      "cell_type": "markdown",
      "source": [
        "### **Python Loop**"
      ],
      "metadata": {
        "id": "Tp2EkqmP_HYK"
      }
    },
    {
      "cell_type": "markdown",
      "source": [
        "1. For\n",
        "2. While"
      ],
      "metadata": {
        "id": "s6kDNz5y_Pvz"
      }
    },
    {
      "cell_type": "markdown",
      "source": [
        "loop will help us to execute multiple statements n numbers of times based on some conditions."
      ],
      "metadata": {
        "id": "xSzI_XiJ_Y2S"
      }
    },
    {
      "cell_type": "markdown",
      "source": [
        "## **for Loop General syntax:**"
      ],
      "metadata": {
        "id": "Pr4srRDp_jJ5"
      }
    },
    {
      "cell_type": "code",
      "source": [
        "for i in range(start, end+1, step)\n",
        "  print(i)"
      ],
      "metadata": {
        "id": "iNBMr9SYk777"
      },
      "execution_count": null,
      "outputs": []
    },
    {
      "cell_type": "markdown",
      "source": [
        "**Example** :"
      ],
      "metadata": {
        "id": "CBt5LzjA_55I"
      }
    },
    {
      "cell_type": "code",
      "source": [
        "for i in range(1,11,1):\n",
        "  print(i)"
      ],
      "metadata": {
        "colab": {
          "base_uri": "https://localhost:8080/"
        },
        "id": "gA0ADPOP_8z5",
        "outputId": "9bc521ab-0a27-459d-8d45-9f7213ca8ead"
      },
      "execution_count": null,
      "outputs": [
        {
          "output_type": "stream",
          "name": "stdout",
          "text": [
            "1\n",
            "2\n",
            "3\n",
            "4\n",
            "5\n",
            "6\n",
            "7\n",
            "8\n",
            "9\n",
            "10\n"
          ]
        }
      ]
    },
    {
      "cell_type": "code",
      "source": [
        "for i in range(25, 51, 5):\n",
        "    print(i)"
      ],
      "metadata": {
        "colab": {
          "base_uri": "https://localhost:8080/"
        },
        "id": "q3FrwQoXALEE",
        "outputId": "b3ab96ef-f251-4b91-b52d-fd7646fe81bd"
      },
      "execution_count": null,
      "outputs": [
        {
          "output_type": "stream",
          "name": "stdout",
          "text": [
            "25\n",
            "30\n",
            "35\n",
            "40\n",
            "45\n",
            "50\n"
          ]
        }
      ]
    },
    {
      "cell_type": "code",
      "source": [
        "for i in range (25, 51,5):\n",
        "    print(i, end=' ')"
      ],
      "metadata": {
        "colab": {
          "base_uri": "https://localhost:8080/"
        },
        "id": "J6IYTOoRAM-p",
        "outputId": "1e529ccd-7fed-44ad-b436-e26b64174955"
      },
      "execution_count": null,
      "outputs": [
        {
          "output_type": "stream",
          "name": "stdout",
          "text": [
            "25 30 35 40 45 50 "
          ]
        }
      ]
    },
    {
      "cell_type": "code",
      "source": [
        "print(range(0,5))"
      ],
      "metadata": {
        "colab": {
          "base_uri": "https://localhost:8080/"
        },
        "id": "ZvQJi4DrARZJ",
        "outputId": "0cd4f3c1-9e7c-4859-a85b-ce35e1504255"
      },
      "execution_count": null,
      "outputs": [
        {
          "output_type": "stream",
          "name": "stdout",
          "text": [
            "range(0, 5)\n"
          ]
        }
      ]
    },
    {
      "cell_type": "markdown",
      "source": [
        "**print 0 to 10**"
      ],
      "metadata": {
        "id": "Jd44XQMKAZ1W"
      }
    },
    {
      "cell_type": "code",
      "source": [
        "for i in range(0,11):\n",
        "  print(i, end=' ')"
      ],
      "metadata": {
        "colab": {
          "base_uri": "https://localhost:8080/"
        },
        "id": "HlZePJuTAbhx",
        "outputId": "134f9cb7-92a5-4250-afbb-7ac299474fe6"
      },
      "execution_count": null,
      "outputs": [
        {
          "output_type": "stream",
          "name": "stdout",
          "text": [
            "0 1 2 3 4 5 6 7 8 9 10 "
          ]
        }
      ]
    },
    {
      "cell_type": "markdown",
      "source": [
        "here we havent mentioned step value so step = 1( by default)"
      ],
      "metadata": {
        "id": "I_MlL_v6AgIQ"
      }
    },
    {
      "cell_type": "code",
      "source": [
        "for i in range (11):\n",
        "    print(i, end=' ')"
      ],
      "metadata": {
        "colab": {
          "base_uri": "https://localhost:8080/"
        },
        "id": "FdEOpNOyAj3Y",
        "outputId": "4587fbd2-73f9-43e0-e120-44dda972082a"
      },
      "execution_count": null,
      "outputs": [
        {
          "output_type": "stream",
          "name": "stdout",
          "text": [
            "0 1 2 3 4 5 6 7 8 9 10 "
          ]
        }
      ]
    },
    {
      "cell_type": "markdown",
      "source": [
        "print 21 to 14 in reverse"
      ],
      "metadata": {
        "id": "eHRk7W_kAsRn"
      }
    },
    {
      "cell_type": "code",
      "source": [
        "for i in range(21,14-1,-1):\n",
        "  print(i, end=' ')"
      ],
      "metadata": {
        "colab": {
          "base_uri": "https://localhost:8080/"
        },
        "id": "-3HmC0F2AtVX",
        "outputId": "450af6dd-29a7-43fb-eecd-2b817cbe2618"
      },
      "execution_count": null,
      "outputs": [
        {
          "output_type": "stream",
          "name": "stdout",
          "text": [
            "21 20 19 18 17 16 15 14 "
          ]
        }
      ]
    },
    {
      "cell_type": "markdown",
      "source": [
        "**in Ascending order -->**\n",
        "for i in range(start, end+1, step)\n",
        "  print(i)"
      ],
      "metadata": {
        "id": "jX27Vx6qBHLG"
      }
    },
    {
      "cell_type": "markdown",
      "source": [
        "**in descending order -->**\n",
        "for i in range(start, end-1, step)\n",
        "  print(i)"
      ],
      "metadata": {
        "id": "dcpTWEhvBK5H"
      }
    },
    {
      "cell_type": "markdown",
      "source": [
        "**How to Print list usimg for loop**"
      ],
      "metadata": {
        "id": "C34acyrDBgGH"
      }
    },
    {
      "cell_type": "code",
      "source": [
        "x=[10, 20, 30, 40, 50]\n",
        "for value in x:\n",
        "  print(value*10)"
      ],
      "metadata": {
        "colab": {
          "base_uri": "https://localhost:8080/"
        },
        "id": "BSI-pgBNBj-W",
        "outputId": "b00f46bf-0906-4237-a42a-2fabac6ec63f"
      },
      "execution_count": null,
      "outputs": [
        {
          "output_type": "stream",
          "name": "stdout",
          "text": [
            "100\n",
            "200\n",
            "300\n",
            "400\n",
            "500\n"
          ]
        }
      ]
    },
    {
      "cell_type": "markdown",
      "source": [
        "## **while Loop General Syntax :**"
      ],
      "metadata": {
        "id": "WsOhrc3nBWsO"
      }
    },
    {
      "cell_type": "code",
      "source": [
        "while condition:\n",
        "  statement\n",
        "  increment"
      ],
      "metadata": {
        "id": "UpX2ozHrBdk1"
      },
      "execution_count": null,
      "outputs": []
    },
    {
      "cell_type": "markdown",
      "source": [
        " **Print 24-14**"
      ],
      "metadata": {
        "id": "fbXZyNZaCqyb"
      }
    },
    {
      "cell_type": "code",
      "source": [
        "start = 24\n",
        "end = 14\n",
        "while start>=end:\n",
        "  print(start,end=\" \")\n",
        "  start = start - 1 #In C , we use Start--"
      ],
      "metadata": {
        "colab": {
          "base_uri": "https://localhost:8080/"
        },
        "id": "7oJJezslCkIC",
        "outputId": "f0113b86-de9b-45aa-ff06-cfef4c881d2f"
      },
      "execution_count": null,
      "outputs": [
        {
          "output_type": "stream",
          "name": "stdout",
          "text": [
            "24 23 22 21 20 19 18 17 16 15 14 "
          ]
        }
      ]
    },
    {
      "cell_type": "markdown",
      "source": [
        "**Print 1-10**"
      ],
      "metadata": {
        "id": "o3tr5-x-DgWF"
      }
    },
    {
      "cell_type": "code",
      "source": [
        "start = 1\n",
        "end = 10\n",
        "while start<=end:\n",
        "  print(start,end=\" \")\n",
        "  start = start + 1 #In C , we use Start++"
      ],
      "metadata": {
        "colab": {
          "base_uri": "https://localhost:8080/"
        },
        "id": "V3HTVHNdDkAt",
        "outputId": "44a47cde-14bc-4644-80f2-23f3f72a1ae0"
      },
      "execution_count": null,
      "outputs": [
        {
          "output_type": "stream",
          "name": "stdout",
          "text": [
            "1 2 3 4 5 6 7 8 9 10 "
          ]
        }
      ]
    },
    {
      "cell_type": "markdown",
      "source": [
        "We can access multiple element at once...... but in the above process  we can access element but we can not access index of element."
      ],
      "metadata": {
        "id": "uZMa7v4qBs2v"
      }
    },
    {
      "cell_type": "code",
      "source": [
        "x=[10, 20, 30, 40, 50]\n",
        "Element  index\n",
        "10        0\n",
        "20        1\n",
        "30        2\n",
        "40        3\n",
        "50        4"
      ],
      "metadata": {
        "id": "VJwE12axB4le"
      },
      "execution_count": null,
      "outputs": []
    },
    {
      "cell_type": "code",
      "source": [
        "for index in range(5):\n",
        "  print( x[index])"
      ],
      "metadata": {
        "colab": {
          "base_uri": "https://localhost:8080/"
        },
        "id": "STGkIetMB6VG",
        "outputId": "95003125-a721-4f96-8d07-c8c3be2f9f0c"
      },
      "execution_count": null,
      "outputs": [
        {
          "output_type": "stream",
          "name": "stdout",
          "text": [
            "10\n",
            "20\n",
            "30\n",
            "40\n",
            "50\n"
          ]
        }
      ]
    },
    {
      "cell_type": "code",
      "source": [
        "x=[10, 20, 30, 40, 50]\n",
        "for index in range(5):\n",
        "  print(index, \"---\", x[index])"
      ],
      "metadata": {
        "colab": {
          "base_uri": "https://localhost:8080/"
        },
        "id": "4SacxV1dCBd4",
        "outputId": "45b38c05-49e3-479d-e3e2-c577b2b32117"
      },
      "execution_count": null,
      "outputs": [
        {
          "output_type": "stream",
          "name": "stdout",
          "text": [
            "0 --- 10\n",
            "1 --- 20\n",
            "2 --- 30\n",
            "3 --- 40\n",
            "4 --- 50\n"
          ]
        }
      ]
    },
    {
      "cell_type": "markdown",
      "source": [
        "If we can access index of element we can manupulate the value of the list.\n",
        "Example :"
      ],
      "metadata": {
        "id": "Eqezv1GiCGzj"
      }
    },
    {
      "cell_type": "code",
      "source": [
        "x=[10, 20, 30, 40, 50]\n",
        "print(x)\n",
        "x[0]=500\n",
        "print(x)"
      ],
      "metadata": {
        "colab": {
          "base_uri": "https://localhost:8080/"
        },
        "id": "V0XIzJu0CMFE",
        "outputId": "9df28d3c-d15c-4d8d-bcbb-8286f8ad4317"
      },
      "execution_count": null,
      "outputs": [
        {
          "output_type": "stream",
          "name": "stdout",
          "text": [
            "[10, 20, 30, 40, 50]\n",
            "[500, 20, 30, 40, 50]\n"
          ]
        }
      ]
    }
  ]
}