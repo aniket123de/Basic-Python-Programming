{
  "nbformat": 4,
  "nbformat_minor": 0,
  "metadata": {
    "colab": {
      "provenance": [],
      "toc_visible": true,
      "authorship_tag": "ABX9TyO/Jh10l7RH0URnOe1di1N9",
      "include_colab_link": true
    },
    "kernelspec": {
      "name": "python3",
      "display_name": "Python 3"
    },
    "language_info": {
      "name": "python"
    }
  },
  "cells": [
    {
      "cell_type": "markdown",
      "metadata": {
        "id": "view-in-github",
        "colab_type": "text"
      },
      "source": [
        "<a href=\"https://colab.research.google.com/github/aniket123de/Basic-Python-Programming/blob/main/Day_6(TrIangle_Pattern_II).ipynb\" target=\"_parent\"><img src=\"https://colab.research.google.com/assets/colab-badge.svg\" alt=\"Open In Colab\"/></a>"
      ]
    },
    {
      "cell_type": "markdown",
      "source": [
        "\n",
        "# **Triangle Pattern - II**\n"
      ],
      "metadata": {
        "id": "IN-4WjVIoI0t"
      }
    },
    {
      "cell_type": "markdown",
      "source": [
        "### **Type 1**"
      ],
      "metadata": {
        "id": "HqtJykxCoNGW"
      }
    },
    {
      "cell_type": "code",
      "execution_count": null,
      "metadata": {
        "colab": {
          "base_uri": "https://localhost:8080/"
        },
        "id": "nn1FJNz3l2vo",
        "outputId": "11d34300-2741-448c-8ee0-4e3b54a2ac1e"
      },
      "outputs": [
        {
          "output_type": "stream",
          "name": "stdout",
          "text": [
            "4\n",
            "* * * * \n",
            "* * * \n",
            "* * \n",
            "* \n"
          ]
        }
      ],
      "source": [
        "h = int(input())\n",
        "for row in range(h,0,-1):\n",
        "  for col in range(1,row+1):\n",
        "    print(\"*\",end=\" \")\n",
        "  print()"
      ]
    },
    {
      "cell_type": "markdown",
      "source": [
        "### **Type 2**"
      ],
      "metadata": {
        "id": "Hvo_wTlSo4xm"
      }
    },
    {
      "cell_type": "code",
      "source": [
        "h = int(input())\n",
        "for row in range(h,0,-1):\n",
        "  for col in range(1,row+1):\n",
        "    print(row,end=\" \")\n",
        "  print()"
      ],
      "metadata": {
        "colab": {
          "base_uri": "https://localhost:8080/"
        },
        "id": "zznRF98po9EY",
        "outputId": "85129ede-05fd-4d00-a339-fdf608425800"
      },
      "execution_count": null,
      "outputs": [
        {
          "output_type": "stream",
          "name": "stdout",
          "text": [
            "4\n",
            "4 4 4 4 \n",
            "3 3 3 \n",
            "2 2 \n",
            "1 \n"
          ]
        }
      ]
    },
    {
      "cell_type": "markdown",
      "source": [
        "### **Type 3**"
      ],
      "metadata": {
        "id": "gwe8rJJ9pAyz"
      }
    },
    {
      "cell_type": "code",
      "source": [
        "h = int(input())\n",
        "for row in range(h,0,-1):\n",
        "  for col in range(1,row+1):\n",
        "    print(chr(row+64),end=\" \")\n",
        "  print()"
      ],
      "metadata": {
        "colab": {
          "base_uri": "https://localhost:8080/"
        },
        "id": "TMLz5DSNpCwW",
        "outputId": "35845692-3cc0-443b-e805-0a17d31e1b14"
      },
      "execution_count": null,
      "outputs": [
        {
          "output_type": "stream",
          "name": "stdout",
          "text": [
            "4\n",
            "D D D D \n",
            "C C C \n",
            "B B \n",
            "A \n"
          ]
        }
      ]
    },
    {
      "cell_type": "markdown",
      "source": [
        "### **Type 4**"
      ],
      "metadata": {
        "id": "BsWmL86PpC8a"
      }
    },
    {
      "cell_type": "code",
      "source": [
        "h = int(input())\n",
        "for row in range(h,0,-1):\n",
        "  for col in range(1,row+1):\n",
        "    print(col,end=\" \")\n",
        "  print()"
      ],
      "metadata": {
        "colab": {
          "base_uri": "https://localhost:8080/"
        },
        "id": "nO5j5z-dpEuO",
        "outputId": "62612e79-c29c-4f8e-dd77-6b08f70bd23d"
      },
      "execution_count": null,
      "outputs": [
        {
          "output_type": "stream",
          "name": "stdout",
          "text": [
            "4\n",
            "1 2 3 4 \n",
            "1 2 3 \n",
            "1 2 \n",
            "1 \n"
          ]
        }
      ]
    },
    {
      "cell_type": "markdown",
      "source": [
        "### **Type 5**"
      ],
      "metadata": {
        "id": "tKdbPJIJpFB9"
      }
    },
    {
      "cell_type": "code",
      "source": [
        "h = int(input())\n",
        "for row in range(h,0,-1):\n",
        "  for col in range(1,row+1):\n",
        "    print(chr(col+64),end=\" \")\n",
        "  print()"
      ],
      "metadata": {
        "colab": {
          "base_uri": "https://localhost:8080/"
        },
        "id": "zw4q1NDxpGom",
        "outputId": "07ac0ee2-4cd1-4a1e-eb8a-ac4916c4c9c8"
      },
      "execution_count": null,
      "outputs": [
        {
          "output_type": "stream",
          "name": "stdout",
          "text": [
            "4\n",
            "A B C D \n",
            "A B C \n",
            "A B \n",
            "A \n"
          ]
        }
      ]
    },
    {
      "cell_type": "markdown",
      "source": [
        "### **Type 6**"
      ],
      "metadata": {
        "id": "6fA44nh3pG2W"
      }
    },
    {
      "cell_type": "code",
      "source": [
        "h = int(input())\n",
        "for row in range(1,h+1):\n",
        "  for col in range(h,row-1,-1):\n",
        "    print(row,end=\" \")\n",
        "  print()"
      ],
      "metadata": {
        "colab": {
          "base_uri": "https://localhost:8080/"
        },
        "id": "b_cCAFpgpIWN",
        "outputId": "25b9f448-f235-4fab-b9f3-7a2c7a1bbf10"
      },
      "execution_count": null,
      "outputs": [
        {
          "output_type": "stream",
          "name": "stdout",
          "text": [
            "4\n",
            "1 1 1 1 \n",
            "2 2 2 \n",
            "3 3 \n",
            "4 \n"
          ]
        }
      ]
    },
    {
      "cell_type": "markdown",
      "source": [
        "### **Type 7**"
      ],
      "metadata": {
        "id": "JTySrO0IpIpb"
      }
    },
    {
      "cell_type": "code",
      "source": [
        "h = int(input())\n",
        "for row in range(1,h+1):\n",
        "  for col in range(h,row-1,-1):\n",
        "    print(chr(row+64),end=\" \")\n",
        "  print()"
      ],
      "metadata": {
        "colab": {
          "base_uri": "https://localhost:8080/"
        },
        "id": "gQ-cEgytpKUO",
        "outputId": "f35639d5-ed2e-4dd9-bd72-37358ef0a80a"
      },
      "execution_count": null,
      "outputs": [
        {
          "output_type": "stream",
          "name": "stdout",
          "text": [
            "4\n",
            "A A A A \n",
            "B B B \n",
            "C C \n",
            "D \n"
          ]
        }
      ]
    },
    {
      "cell_type": "markdown",
      "source": [
        "### **Type 8**"
      ],
      "metadata": {
        "id": "ruAGNJ14pKiI"
      }
    },
    {
      "cell_type": "code",
      "source": [
        "h = int(input())\n",
        "for row in range(1,h+1):\n",
        "  for col in range(h,row-1,-1):\n",
        "    print(col,end=\" \")\n",
        "  print()"
      ],
      "metadata": {
        "colab": {
          "base_uri": "https://localhost:8080/"
        },
        "id": "d_h93e4rpMRu",
        "outputId": "76d3b8fb-7d84-4b70-e744-0d6260751e34"
      },
      "execution_count": null,
      "outputs": [
        {
          "output_type": "stream",
          "name": "stdout",
          "text": [
            "4\n",
            "4 3 2 1 \n",
            "4 3 2 \n",
            "4 3 \n",
            "4 \n"
          ]
        }
      ]
    },
    {
      "cell_type": "markdown",
      "source": [
        "### **Type 9**"
      ],
      "metadata": {
        "id": "KDBdkThSpMxG"
      }
    },
    {
      "cell_type": "code",
      "source": [
        "h = int(input())\n",
        "for row in range(1,h+1):\n",
        "  for col in range(h,row-1,-1):\n",
        "    print(chr(col+64),end=\" \")\n",
        "  print()"
      ],
      "metadata": {
        "colab": {
          "base_uri": "https://localhost:8080/"
        },
        "id": "IWkCKy1UpOXf",
        "outputId": "7f4c89c3-0230-414d-d6ee-58eee1172f08"
      },
      "execution_count": null,
      "outputs": [
        {
          "output_type": "stream",
          "name": "stdout",
          "text": [
            "4\n",
            "D C B A \n",
            "D C B \n",
            "D C \n",
            "D \n"
          ]
        }
      ]
    },
    {
      "cell_type": "markdown",
      "source": [
        "# **Triangle Pattern - III**"
      ],
      "metadata": {
        "id": "EAD-hSGusT-y"
      }
    },
    {
      "cell_type": "markdown",
      "source": [
        "## **Type 1**"
      ],
      "metadata": {
        "id": "TYGFcDvFs5TU"
      }
    },
    {
      "cell_type": "code",
      "source": [
        "h=int(input())\n",
        "for row in range(1,h+1):\n",
        "  for space in range(1,h-row+1):\n",
        "    print(\" \",end=\" \")\n",
        "  for col in range(1,row+1):\n",
        "    print(\"*\",end=\" \")\n",
        "  print()"
      ],
      "metadata": {
        "colab": {
          "base_uri": "https://localhost:8080/"
        },
        "id": "Ue5Ck6Qss9-e",
        "outputId": "ae7a3eab-bb90-4931-8da5-2adbd06bca89"
      },
      "execution_count": null,
      "outputs": [
        {
          "output_type": "stream",
          "name": "stdout",
          "text": [
            "5\n",
            "        * \n",
            "      * * \n",
            "    * * * \n",
            "  * * * * \n",
            "* * * * * \n"
          ]
        }
      ]
    },
    {
      "cell_type": "markdown",
      "source": [
        "## **Type 2**"
      ],
      "metadata": {
        "id": "6yKKB3nXs-Rf"
      }
    },
    {
      "cell_type": "code",
      "source": [
        "h=int(input())\n",
        "for row in range(1,h+1):\n",
        "  for space in range(1,h-row+1):\n",
        "    print(\" \",end=\" \")\n",
        "  for col in range(1,row+1):\n",
        "    print(row,end=\" \")\n",
        "  print()"
      ],
      "metadata": {
        "colab": {
          "base_uri": "https://localhost:8080/"
        },
        "id": "3yF7So_2tRnn",
        "outputId": "578478ff-91ce-44af-a8c1-ff635151846f"
      },
      "execution_count": null,
      "outputs": [
        {
          "output_type": "stream",
          "name": "stdout",
          "text": [
            "5\n",
            "        1 \n",
            "      2 2 \n",
            "    3 3 3 \n",
            "  4 4 4 4 \n",
            "5 5 5 5 5 \n"
          ]
        }
      ]
    },
    {
      "cell_type": "markdown",
      "source": [
        "## **Type 3**"
      ],
      "metadata": {
        "id": "ToQJfKm9tU2P"
      }
    },
    {
      "cell_type": "code",
      "source": [
        "h=int(input())\n",
        "for row in range(1,h+1):\n",
        "  for space in range(1,h-row+1):\n",
        "    print(\" \",end=\" \")\n",
        "  for col in range(1,row+1):\n",
        "    print(chr(row+64),end=\" \")\n",
        "  print()"
      ],
      "metadata": {
        "colab": {
          "base_uri": "https://localhost:8080/"
        },
        "id": "3KRIGenStW38",
        "outputId": "cdecd013-4963-4c84-f8bf-4f7ac11c191a"
      },
      "execution_count": null,
      "outputs": [
        {
          "output_type": "stream",
          "name": "stdout",
          "text": [
            "5\n",
            "        A \n",
            "      B B \n",
            "    C C C \n",
            "  D D D D \n",
            "E E E E E \n"
          ]
        }
      ]
    },
    {
      "cell_type": "markdown",
      "source": [
        "## **Type 4**"
      ],
      "metadata": {
        "id": "QG0UwCcPtXI4"
      }
    },
    {
      "cell_type": "code",
      "source": [
        "h=int(input())\n",
        "for row in range(1,h+1):\n",
        "  for space in range(1,h-row+1):\n",
        "    print(\" \",end=\" \")\n",
        "  for col in range(1,row+1):\n",
        "    print(col,end=\" \")\n",
        "  print()"
      ],
      "metadata": {
        "colab": {
          "base_uri": "https://localhost:8080/"
        },
        "id": "OB_qfViHtYz2",
        "outputId": "036735b7-a917-4fad-ef74-096a51df1a41"
      },
      "execution_count": null,
      "outputs": [
        {
          "output_type": "stream",
          "name": "stdout",
          "text": [
            "5\n",
            "        1 \n",
            "      1 2 \n",
            "    1 2 3 \n",
            "  1 2 3 4 \n",
            "1 2 3 4 5 \n"
          ]
        }
      ]
    },
    {
      "cell_type": "markdown",
      "source": [
        "## **Type 5**"
      ],
      "metadata": {
        "id": "reL4jJ7rtZBP"
      }
    },
    {
      "cell_type": "code",
      "source": [
        "h=int(input())\n",
        "for row in range(1,h+1):\n",
        "  for space in range(1,h-row+1):\n",
        "    print(\" \",end=\" \")\n",
        "  for col in range(1,row+1):\n",
        "    print(chr(col+64),end=\" \")\n",
        "  print()"
      ],
      "metadata": {
        "colab": {
          "base_uri": "https://localhost:8080/"
        },
        "id": "UT0hJ-lStaW5",
        "outputId": "21bbeb29-763d-429d-d571-7bae3bba3a62"
      },
      "execution_count": null,
      "outputs": [
        {
          "output_type": "stream",
          "name": "stdout",
          "text": [
            "5\n",
            "        A \n",
            "      A B \n",
            "    A B C \n",
            "  A B C D \n",
            "A B C D E \n"
          ]
        }
      ]
    },
    {
      "cell_type": "markdown",
      "source": [
        "## **Type 6**"
      ],
      "metadata": {
        "id": "a2uHW2setakw"
      }
    },
    {
      "cell_type": "code",
      "source": [
        "h=int(input())\n",
        "for row in range(h,0,-1):\n",
        "  for space in range(1,row+1):\n",
        "    print(\" \",end=\" \")\n",
        "  for col in range(h,row-1,-1):\n",
        "    print(row,end=\" \")\n",
        "  print()"
      ],
      "metadata": {
        "colab": {
          "base_uri": "https://localhost:8080/"
        },
        "id": "DdJFdZixtcFW",
        "outputId": "22d9bb46-5027-473d-f7b3-6169640e879c"
      },
      "execution_count": null,
      "outputs": [
        {
          "output_type": "stream",
          "name": "stdout",
          "text": [
            "5\n",
            "          5 \n",
            "        4 4 \n",
            "      3 3 3 \n",
            "    2 2 2 2 \n",
            "  1 1 1 1 1 \n"
          ]
        }
      ]
    },
    {
      "cell_type": "markdown",
      "source": [
        "## **Type 7**"
      ],
      "metadata": {
        "id": "oNAIg9VetcYW"
      }
    },
    {
      "cell_type": "code",
      "source": [
        "h=int(input())\n",
        "for row in range(h,0,-1):\n",
        "  for space in range(1,row+1):\n",
        "    print(\" \",end=\" \")\n",
        "  for col in range(h,row-1,-1):\n",
        "    print(col,end=\" \")\n",
        "  print()"
      ],
      "metadata": {
        "colab": {
          "base_uri": "https://localhost:8080/"
        },
        "id": "_ZOpNjo9tduA",
        "outputId": "a8896ed6-2b3c-4f26-b43a-97274b8e3814"
      },
      "execution_count": null,
      "outputs": [
        {
          "output_type": "stream",
          "name": "stdout",
          "text": [
            "5\n",
            "          5 \n",
            "        5 4 \n",
            "      5 4 3 \n",
            "    5 4 3 2 \n",
            "  5 4 3 2 1 \n"
          ]
        }
      ]
    },
    {
      "cell_type": "markdown",
      "source": [
        "## **Type 8**"
      ],
      "metadata": {
        "id": "kGBZgXIhtd7-"
      }
    },
    {
      "cell_type": "code",
      "source": [
        "h=int(input())\n",
        "for row in range(h,0,-1):\n",
        "  for space in range(1,row+1):\n",
        "    print(\" \",end=\" \")\n",
        "  for col in range(h,row-1,-1):\n",
        "    print(chr(row+64),end=\" \")\n",
        "  print()"
      ],
      "metadata": {
        "colab": {
          "base_uri": "https://localhost:8080/"
        },
        "id": "EPWq7miYtfgZ",
        "outputId": "e0bf38cf-5a51-4a0c-d0e8-cc0f134af140"
      },
      "execution_count": null,
      "outputs": [
        {
          "output_type": "stream",
          "name": "stdout",
          "text": [
            "5\n",
            "          E \n",
            "        D D \n",
            "      C C C \n",
            "    B B B B \n",
            "  A A A A A \n"
          ]
        }
      ]
    },
    {
      "cell_type": "markdown",
      "source": [
        "## **Type 9**"
      ],
      "metadata": {
        "id": "ApsrJY_6tfvw"
      }
    },
    {
      "cell_type": "code",
      "source": [
        "h=int(input())\n",
        "for row in range(h,0,-1):\n",
        "  for space in range(1,row+1):\n",
        "    print(\" \",end=\" \")\n",
        "  for col in range(h,row-1,-1):\n",
        "    print(chr(col+64),end=\" \")\n",
        "  print()"
      ],
      "metadata": {
        "colab": {
          "base_uri": "https://localhost:8080/"
        },
        "id": "28fPoQnHthCf",
        "outputId": "f73e0871-8f33-4a77-b3f0-6622008267ab"
      },
      "execution_count": null,
      "outputs": [
        {
          "output_type": "stream",
          "name": "stdout",
          "text": [
            "5\n",
            "          E \n",
            "        E D \n",
            "      E D C \n",
            "    E D C B \n",
            "  E D C B A \n"
          ]
        }
      ]
    },
    {
      "cell_type": "markdown",
      "source": [
        "# **Triangle Pattern - IV**"
      ],
      "metadata": {
        "id": "opnLoEqb3wnK"
      }
    },
    {
      "cell_type": "markdown",
      "source": [
        "## **Type 1**"
      ],
      "metadata": {
        "id": "4q-uJaII36II"
      }
    },
    {
      "cell_type": "code",
      "source": [
        "h = int(input())\n",
        "for row in range(h,0,-1):\n",
        "  for space in range(1,h-row+1):\n",
        "    print(\" \",end=\" \")\n",
        "  for col in range(1,row+1):\n",
        "    print(\"*\",end=\" \")\n",
        "  print()"
      ],
      "metadata": {
        "colab": {
          "base_uri": "https://localhost:8080/"
        },
        "id": "QCE-hHjV39E5",
        "outputId": "c293d938-fc86-4bb6-c4de-fc93de82898c"
      },
      "execution_count": null,
      "outputs": [
        {
          "output_type": "stream",
          "name": "stdout",
          "text": [
            "5\n",
            "* * * * * \n",
            "  * * * * \n",
            "    * * * \n",
            "      * * \n",
            "        * \n"
          ]
        }
      ]
    },
    {
      "cell_type": "markdown",
      "source": [
        "## **Type 2**"
      ],
      "metadata": {
        "id": "-Xq41JjU39S5"
      }
    },
    {
      "cell_type": "code",
      "source": [
        "h = int(input())\n",
        "for row in range(h,0,-1):\n",
        "  for space in range(1,h-row+1):\n",
        "    print(\" \",end=\" \")\n",
        "  for col in range(1,row+1):\n",
        "    print(row,end=\" \")\n",
        "  print()"
      ],
      "metadata": {
        "colab": {
          "base_uri": "https://localhost:8080/"
        },
        "id": "ez61UYxn3--q",
        "outputId": "7188a76e-f78e-4a2e-8790-0dbeae9e2dde"
      },
      "execution_count": null,
      "outputs": [
        {
          "output_type": "stream",
          "name": "stdout",
          "text": [
            "5\n",
            "5 5 5 5 5 \n",
            "  4 4 4 4 \n",
            "    3 3 3 \n",
            "      2 2 \n",
            "        1 \n"
          ]
        }
      ]
    },
    {
      "cell_type": "markdown",
      "source": [
        "## **Type 3**"
      ],
      "metadata": {
        "id": "GiyaB1Ob3_Q8"
      }
    },
    {
      "cell_type": "code",
      "source": [
        "h = int(input())\n",
        "for row in range(h,0,-1):\n",
        "  for space in range(1,h-row+1):\n",
        "    print(\" \",end=\" \")\n",
        "  for col in range(1,row+1):\n",
        "    print(col,end=\" \")\n",
        "  print()"
      ],
      "metadata": {
        "colab": {
          "base_uri": "https://localhost:8080/"
        },
        "id": "C8KEshrl4Akt",
        "outputId": "bf4107a4-bdef-4ade-d69c-3b9d81e0537e"
      },
      "execution_count": null,
      "outputs": [
        {
          "output_type": "stream",
          "name": "stdout",
          "text": [
            "5\n",
            "1 2 3 4 5 \n",
            "  1 2 3 4 \n",
            "    1 2 3 \n",
            "      1 2 \n",
            "        1 \n"
          ]
        }
      ]
    },
    {
      "cell_type": "markdown",
      "source": [
        "## **Type 4**"
      ],
      "metadata": {
        "id": "oRPfzOjd4B88"
      }
    },
    {
      "cell_type": "code",
      "source": [
        "h = int(input())\n",
        "for row in range(h,0,-1):\n",
        "  for space in range(1,h-row+1):\n",
        "    print(\" \",end=\" \")\n",
        "  for col in range(1,row+1):\n",
        "    print(chr(row+64),end=\" \")\n",
        "  print()"
      ],
      "metadata": {
        "colab": {
          "base_uri": "https://localhost:8080/"
        },
        "id": "i5gtm0m94FM4",
        "outputId": "f54918b9-4888-4dff-98b9-c65a7b8dc2cc"
      },
      "execution_count": null,
      "outputs": [
        {
          "output_type": "stream",
          "name": "stdout",
          "text": [
            "5\n",
            "E E E E E \n",
            "  D D D D \n",
            "    C C C \n",
            "      B B \n",
            "        A \n"
          ]
        }
      ]
    },
    {
      "cell_type": "markdown",
      "source": [
        "## **Type 5**"
      ],
      "metadata": {
        "id": "8nfJqZOb4FjB"
      }
    },
    {
      "cell_type": "code",
      "source": [
        "h = int(input())\n",
        "for row in range(h,0,-1):\n",
        "  for space in range(1,h-row+1):\n",
        "    print(\" \",end=\" \")\n",
        "  for col in range(1,row+1):\n",
        "    print(chr(col+64),end=\" \")\n",
        "  print()"
      ],
      "metadata": {
        "colab": {
          "base_uri": "https://localhost:8080/"
        },
        "id": "6adKymL24HYI",
        "outputId": "8c703c0e-95a8-4c00-c9d3-41b150443515"
      },
      "execution_count": null,
      "outputs": [
        {
          "output_type": "stream",
          "name": "stdout",
          "text": [
            "5\n",
            "A B C D E \n",
            "  A B C D \n",
            "    A B C \n",
            "      A B \n",
            "        A \n"
          ]
        }
      ]
    },
    {
      "cell_type": "markdown",
      "source": [
        "## **Type 6**"
      ],
      "metadata": {
        "id": "tSOY_69s4H6b"
      }
    },
    {
      "cell_type": "code",
      "source": [
        "h = int(input())\n",
        "for row in range(h,0,-1):\n",
        "  for space in range(1,h-row+1):\n",
        "    print(\" \",end=\" \")\n",
        "  for col in range(1,row+1):\n",
        "    print(row,end=\" \")\n",
        "  print()"
      ],
      "metadata": {
        "colab": {
          "base_uri": "https://localhost:8080/"
        },
        "id": "ZrOjM-fl4JTz",
        "outputId": "cb4f13ff-fa53-48e4-8f17-5606aa0c215c"
      },
      "execution_count": null,
      "outputs": [
        {
          "output_type": "stream",
          "name": "stdout",
          "text": [
            "5\n",
            "5 5 5 5 5 \n",
            "  4 4 4 4 \n",
            "    3 3 3 \n",
            "      2 2 \n",
            "        1 \n"
          ]
        }
      ]
    },
    {
      "cell_type": "markdown",
      "source": [
        "## **Type 7**"
      ],
      "metadata": {
        "id": "Hkf4kEmI4Jyy"
      }
    },
    {
      "cell_type": "code",
      "source": [
        "h = int(input())\n",
        "for row in range(h,0,-1):\n",
        "  for space in range(1,h-row+1):\n",
        "    print(\" \",end=\" \")\n",
        "  for col in range(1,row+1):\n",
        "    print(chr(row+64),end=\" \")\n",
        "  print()"
      ],
      "metadata": {
        "colab": {
          "base_uri": "https://localhost:8080/"
        },
        "id": "GVc0i89U4LKo",
        "outputId": "49c1db7d-ee14-4d07-8a60-6e98b93ea99b"
      },
      "execution_count": null,
      "outputs": [
        {
          "output_type": "stream",
          "name": "stdout",
          "text": [
            "5\n",
            "E E E E E \n",
            "  D D D D \n",
            "    C C C \n",
            "      B B \n",
            "        A \n"
          ]
        }
      ]
    },
    {
      "cell_type": "markdown",
      "source": [
        "## **Type 8**"
      ],
      "metadata": {
        "id": "tYCJ8K134Lcc"
      }
    },
    {
      "cell_type": "code",
      "source": [
        "h = int(input())\n",
        "for row in range(1,h+1):\n",
        "  for space in range(1,row+1):\n",
        "    print(\" \",end=\" \")\n",
        "  for col in range(h,row-1,-1):\n",
        "    print(col,end=\" \")\n",
        "  print()"
      ],
      "metadata": {
        "colab": {
          "base_uri": "https://localhost:8080/"
        },
        "id": "6V2C_qhv4Na6",
        "outputId": "c448a278-3f74-4f51-fecc-771462b7a410"
      },
      "execution_count": null,
      "outputs": [
        {
          "output_type": "stream",
          "name": "stdout",
          "text": [
            "5\n",
            "  5 4 3 2 1 \n",
            "    5 4 3 2 \n",
            "      5 4 3 \n",
            "        5 4 \n",
            "          5 \n"
          ]
        }
      ]
    },
    {
      "cell_type": "markdown",
      "source": [
        "## **Type 9**"
      ],
      "metadata": {
        "id": "6riU4cRS4N1b"
      }
    },
    {
      "cell_type": "code",
      "source": [
        "h = int(input())\n",
        "for row in range(1,h+1):\n",
        "  for space in range(1,row+1):\n",
        "    print(\" \",end=\" \")\n",
        "  for col in range(h,row-1,-1):\n",
        "    print(chr(col+64),end=\" \")\n",
        "  print()"
      ],
      "metadata": {
        "colab": {
          "base_uri": "https://localhost:8080/"
        },
        "id": "a6n-OCDz4Png",
        "outputId": "6924cee6-4d63-48e6-f20d-d32ce84c3920"
      },
      "execution_count": null,
      "outputs": [
        {
          "output_type": "stream",
          "name": "stdout",
          "text": [
            "5\n",
            "  E D C B A \n",
            "    E D C B \n",
            "      E D C \n",
            "        E D \n",
            "          E \n"
          ]
        }
      ]
    }
  ]
}