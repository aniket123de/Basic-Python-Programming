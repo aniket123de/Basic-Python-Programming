{
  "nbformat": 4,
  "nbformat_minor": 0,
  "metadata": {
    "colab": {
      "provenance": [],
      "authorship_tag": "ABX9TyNGLjozFawbjWG2KFV/BCwV",
      "include_colab_link": true
    },
    "kernelspec": {
      "name": "python3",
      "display_name": "Python 3"
    },
    "language_info": {
      "name": "python"
    }
  },
  "cells": [
    {
      "cell_type": "markdown",
      "metadata": {
        "id": "view-in-github",
        "colab_type": "text"
      },
      "source": [
        "<a href=\"https://colab.research.google.com/github/aniket123de/Basic-Python-Programming/blob/main/Day_1(Data_Types_and_taking_Inputs).ipynb\" target=\"_parent\"><img src=\"https://colab.research.google.com/assets/colab-badge.svg\" alt=\"Open In Colab\"/></a>"
      ]
    },
    {
      "cell_type": "markdown",
      "source": [
        "First Program in Python"
      ],
      "metadata": {
        "id": "JbLfBTpZZ8WI"
      }
    },
    {
      "cell_type": "code",
      "execution_count": null,
      "metadata": {
        "colab": {
          "base_uri": "https://localhost:8080/"
        },
        "id": "cQY8dZGvTrmp",
        "outputId": "d8bca5b9-e692-431c-b780-71e6e6860ca8"
      },
      "outputs": [
        {
          "output_type": "stream",
          "name": "stdout",
          "text": [
            "Aniket\n",
            "Aniket\n",
            "Aniket\n",
            "Aniket\n"
          ]
        }
      ],
      "source": [
        "print (\"Aniket\")\n",
        "print ('Aniket')\n",
        "print ('''Aniket''')\n",
        "print (\"\"\"Aniket\"\"\")\n",
        "\n"
      ]
    },
    {
      "cell_type": "markdown",
      "source": [
        "*In Python We can also Use Semi-Colon to define end of statement.*"
      ],
      "metadata": {
        "id": "HGN37cRRZgR4"
      }
    },
    {
      "cell_type": "code",
      "source": [
        "print (\"Aniket\");print ('Aniket');print ('''Aniket''');print (\"\"\"Aniket\"\"\")"
      ],
      "metadata": {
        "colab": {
          "base_uri": "https://localhost:8080/"
        },
        "id": "9SHg_MxvZi-C",
        "outputId": "ee9c23fd-d503-4aa8-c5fc-5a06b8b716cf"
      },
      "execution_count": null,
      "outputs": [
        {
          "output_type": "stream",
          "name": "stdout",
          "text": [
            "Aniket\n",
            "Aniket\n",
            "Aniket\n",
            "Aniket\n"
          ]
        }
      ]
    },
    {
      "cell_type": "markdown",
      "source": [
        "**How to take User Inputs in Python ?**"
      ],
      "metadata": {
        "id": "ZqqsTuS7ZxGQ"
      }
    },
    {
      "cell_type": "code",
      "source": [
        "x = input()\n",
        "print(x)\n",
        "print(type(x))"
      ],
      "metadata": {
        "colab": {
          "base_uri": "https://localhost:8080/"
        },
        "id": "tYzET8vHZ5IB",
        "outputId": "58cf846c-1174-42d8-8ee1-ecd19b32340d"
      },
      "execution_count": null,
      "outputs": [
        {
          "output_type": "stream",
          "name": "stdout",
          "text": [
            "35\n",
            "35\n",
            "<class 'str'>\n"
          ]
        }
      ]
    },
    {
      "cell_type": "markdown",
      "source": [
        " *In Python , when we are taking inputs using input() , all inputs will be considered as String.*\n"
      ],
      "metadata": {
        "id": "tX5v9qUvaZcP"
      }
    },
    {
      "cell_type": "code",
      "source": [
        "x = input()\n",
        "print(x)\n",
        "print(type(x))"
      ],
      "metadata": {
        "colab": {
          "base_uri": "https://localhost:8080/"
        },
        "id": "XMSRVfuca-q9",
        "outputId": "cdb872ef-0034-4c1e-c91a-b98f415b26ed"
      },
      "execution_count": null,
      "outputs": [
        {
          "output_type": "stream",
          "name": "stdout",
          "text": [
            "anik\n",
            "anik\n",
            "<class 'str'>\n"
          ]
        }
      ]
    },
    {
      "cell_type": "code",
      "source": [
        "x = input()\n",
        "print(x)\n",
        "print(type(x))"
      ],
      "metadata": {
        "colab": {
          "base_uri": "https://localhost:8080/"
        },
        "id": "YC1UwLSobOr_",
        "outputId": "985eb845-5811-4f5b-ad1c-c0fe4e662a02"
      },
      "execution_count": null,
      "outputs": [
        {
          "output_type": "stream",
          "name": "stdout",
          "text": [
            "23.25\n",
            "23.25\n",
            "<class 'str'>\n"
          ]
        }
      ]
    },
    {
      "cell_type": "markdown",
      "source": [
        "Take user input as integer"
      ],
      "metadata": {
        "id": "_iwXfYLDbz_4"
      }
    },
    {
      "cell_type": "code",
      "source": [
        "x=int(input())\n",
        "print(x)\n",
        "print(type(x))"
      ],
      "metadata": {
        "colab": {
          "base_uri": "https://localhost:8080/"
        },
        "id": "GrIfyovmb3YW",
        "outputId": "5499a48b-a443-4581-d77a-e0d05fa00997"
      },
      "execution_count": null,
      "outputs": [
        {
          "output_type": "stream",
          "name": "stdout",
          "text": [
            "25\n",
            "25\n",
            "<class 'int'>\n"
          ]
        }
      ]
    },
    {
      "cell_type": "markdown",
      "source": [
        "*Here in Python 'int','float' is a class.*"
      ],
      "metadata": {
        "id": "ffGKjKCFdGNQ"
      }
    },
    {
      "cell_type": "markdown",
      "source": [
        "Take user input as Float."
      ],
      "metadata": {
        "id": "InhvPDbUdWME"
      }
    },
    {
      "cell_type": "code",
      "source": [
        "x=float(input())\n",
        "print(x)\n",
        "print(type(x))"
      ],
      "metadata": {
        "colab": {
          "base_uri": "https://localhost:8080/"
        },
        "id": "UCqQ1ZNodamM",
        "outputId": "2a72119d-d35e-41b0-e3d1-a22815eff25a"
      },
      "execution_count": null,
      "outputs": [
        {
          "output_type": "stream",
          "name": "stdout",
          "text": [
            "21.02\n",
            "21.02\n",
            "<class 'float'>\n"
          ]
        }
      ]
    },
    {
      "cell_type": "markdown",
      "source": [
        "*When user can provide int/float : Use eval()*"
      ],
      "metadata": {
        "id": "bh0RJ-kieiJH"
      }
    },
    {
      "cell_type": "code",
      "source": [
        "x = eval(input())\n",
        "print(x)\n",
        "print(type(x))"
      ],
      "metadata": {
        "colab": {
          "base_uri": "https://localhost:8080/"
        },
        "id": "TFp9664seLxU",
        "outputId": "a785d1cb-c634-48c4-a9c7-864a26b878a7"
      },
      "execution_count": null,
      "outputs": [
        {
          "output_type": "stream",
          "name": "stdout",
          "text": [
            "25\n",
            "25\n",
            "<class 'int'>\n"
          ]
        }
      ]
    },
    {
      "cell_type": "code",
      "source": [
        "x = eval(input())\n",
        "print(x)\n",
        "print(type(x))"
      ],
      "metadata": {
        "colab": {
          "base_uri": "https://localhost:8080/"
        },
        "id": "hM_cpnUQedV6",
        "outputId": "60e4b72c-870d-461b-e456-16ef40f0abe9"
      },
      "execution_count": null,
      "outputs": [
        {
          "output_type": "stream",
          "name": "stdout",
          "text": [
            "25.45\n",
            "25.45\n",
            "<class 'float'>\n"
          ]
        }
      ]
    },
    {
      "cell_type": "markdown",
      "source": [
        "*eval() means Evaluation*"
      ],
      "metadata": {
        "id": "VzjFyJ9_e6Xh"
      }
    },
    {
      "cell_type": "code",
      "source": [
        "x=\"5+(9+6)*7*8+9\"\n",
        "print(x)\n",
        "print(eval(x))"
      ],
      "metadata": {
        "colab": {
          "base_uri": "https://localhost:8080/"
        },
        "id": "GLK-vsTre-a5",
        "outputId": "46b5d609-110f-45fa-9616-9ebc6d6db73b"
      },
      "execution_count": null,
      "outputs": [
        {
          "output_type": "stream",
          "name": "stdout",
          "text": [
            "5+(9+6)*7*8+9\n",
            "854\n"
          ]
        }
      ]
    },
    {
      "cell_type": "markdown",
      "source": [
        "*Here in Python , there is no concept of range for the data types.*"
      ],
      "metadata": {
        "id": "e_dUM3QSf9Ph"
      }
    },
    {
      "cell_type": "code",
      "source": [
        "x=int(input())\n",
        "print(x)"
      ],
      "metadata": {
        "colab": {
          "base_uri": "https://localhost:8080/"
        },
        "id": "mtPoEVDaftcr",
        "outputId": "46b0b8af-d77d-43b3-e08d-43a461680da3"
      },
      "execution_count": null,
      "outputs": [
        {
          "output_type": "stream",
          "name": "stdout",
          "text": [
            "5555555555555555555555555555555555555555555555555555555444447888412200336998520012445587552\n",
            "5555555555555555555555555555555555555555555555555555555444447888412200336998520012445587552\n"
          ]
        }
      ]
    },
    {
      "cell_type": "markdown",
      "source": [
        "Taking 2 inputs from user"
      ],
      "metadata": {
        "id": "BL2LGiHxgFix"
      }
    },
    {
      "cell_type": "code",
      "source": [
        "x = input().split()\n",
        "print(x)\n",
        "print(x[0])\n",
        "print(x[1])\n"
      ],
      "metadata": {
        "colab": {
          "base_uri": "https://localhost:8080/"
        },
        "id": "O5bHooaShy-Q",
        "outputId": "fc4d48d3-62df-4c9c-a05c-868182e0408a"
      },
      "execution_count": null,
      "outputs": [
        {
          "output_type": "stream",
          "name": "stdout",
          "text": [
            "10 20 \n",
            "['10', '20']\n",
            "10\n",
            "20\n"
          ]
        }
      ]
    },
    {
      "cell_type": "markdown",
      "source": [
        "*By default , split() function is based on space.*"
      ],
      "metadata": {
        "id": "m9VlzirimMDv"
      }
    },
    {
      "cell_type": "markdown",
      "source": [
        "Taking multiple integer inputs as user inputs"
      ],
      "metadata": {
        "id": "iD-0ZtczkgQA"
      }
    },
    {
      "cell_type": "code",
      "source": [
        "x = list(map(int,input().split()))\n",
        "print(x)\n",
        "print(type(x[0]))"
      ],
      "metadata": {
        "colab": {
          "base_uri": "https://localhost:8080/"
        },
        "id": "8Igb5AJOkk9Q",
        "outputId": "ea07bc43-27de-4c6d-952d-0bf2c45a4a0d"
      },
      "execution_count": null,
      "outputs": [
        {
          "output_type": "stream",
          "name": "stdout",
          "text": [
            "10 20 30 40 \n",
            "[10, 20, 30, 40]\n",
            "<class 'int'>\n"
          ]
        }
      ]
    },
    {
      "cell_type": "markdown",
      "source": [
        "map(datatype_class , list-of_string) : Now , it will help you to convert your list of string element into your preferred datatype_class.\n",
        "\n",
        "It will return an map object.\n",
        "As it is not readable , we need to convert into list by list().\n",
        "\n",
        "list(map(datatype_class , list-of_string))  "
      ],
      "metadata": {
        "id": "2sZfGLhtn9QS"
      }
    },
    {
      "cell_type": "markdown",
      "source": [
        "Swap 2 numbers"
      ],
      "metadata": {
        "id": "u6_SdVD7ptLI"
      }
    },
    {
      "cell_type": "code",
      "source": [
        "a , b = 2 , 3\n",
        "print(a,b)\n",
        "a , b = b , a\n",
        "print(a,b)"
      ],
      "metadata": {
        "colab": {
          "base_uri": "https://localhost:8080/"
        },
        "id": "19sLReCSpv6T",
        "outputId": "bb628ec5-13ea-46e4-8e5c-14b2dfa1d260"
      },
      "execution_count": null,
      "outputs": [
        {
          "output_type": "stream",
          "name": "stdout",
          "text": [
            "2 3\n",
            "3 2\n"
          ]
        }
      ]
    },
    {
      "cell_type": "markdown",
      "source": [
        "Take only 2 inputs."
      ],
      "metadata": {
        "id": "W9yPzFAlqKYR"
      }
    },
    {
      "cell_type": "code",
      "source": [
        "a ,b = list(map(int,input().split()))\n",
        "print(a)\n",
        "print(b)\n"
      ],
      "metadata": {
        "colab": {
          "base_uri": "https://localhost:8080/"
        },
        "id": "I5LacBfAqNWg",
        "outputId": "140255d0-986b-42dd-9a5c-71a7dc19196e"
      },
      "execution_count": null,
      "outputs": [
        {
          "output_type": "stream",
          "name": "stdout",
          "text": [
            "10 25\n",
            "10\n",
            "25\n"
          ]
        }
      ]
    }
  ]
}